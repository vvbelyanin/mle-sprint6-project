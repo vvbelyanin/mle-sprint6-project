{
 "cells": [
  {
   "cell_type": "markdown",
   "metadata": {},
   "source": [
    "#### Проект. Рекомендательные системы в банковской сфере. Моделирование\n",
    "\n",
    "Содержание  \n",
    " - Начало: импорт библиотек, настройка параметров, определения функций\n",
    " - Запуск MLFlow\n",
    " - Обучение модели\n",
    " - Подготовка функций для встраивания модели в сервис предсказаний\n",
    " - Получение и интерпретация метрик\n",
    " - Сравнение метрик модели с константными предсказаниями\n",
    " - Итоги этапа моделирования"
   ]
  },
  {
   "cell_type": "markdown",
   "metadata": {},
   "source": [
    "##### Начало: импорт библиотек, настройка параметров, определения функций"
   ]
  },
  {
   "cell_type": "code",
   "execution_count": 1,
   "metadata": {},
   "outputs": [],
   "source": [
    "# Import essential libraries for data manipulation and I/O operations\n",
    "import pandas as pd\n",
    "import numpy as np\n",
    "import os\n",
    "import json\n",
    "import joblib\n",
    "import warnings\n",
    "import matplotlib.pyplot as plt\n",
    "import requests\n",
    "from typing import Optional, List, Dict\n",
    "import subprocess\n",
    "from dotenv import load_dotenv\n",
    "import psutil\n",
    "\n",
    "# Import CatBoost for machine learning tasks\n",
    "from catboost import CatBoostClassifier\n",
    "\n",
    "# Import metrics from sklearn for evaluating model performance\n",
    "from sklearn.metrics import accuracy_score, precision_score, recall_score, f1_score, roc_auc_score\n",
    "from sklearn.metrics import roc_curve, auc\n",
    "\n",
    "# Import preprocessing and pipeline tools from sklearn\n",
    "from sklearn.preprocessing import MinMaxScaler, OneHotEncoder, FunctionTransformer\n",
    "from sklearn.compose import ColumnTransformer\n",
    "from sklearn.base import BaseEstimator, TransformerMixin\n",
    "from sklearn.multioutput import MultiOutputClassifier\n",
    "from sklearn.pipeline import Pipeline\n",
    "\n",
    "# Custom utility imports for data processing\n",
    "from data_utils import new_columns, attrs\n",
    "from data_utils import DataFrameProcessor, frequency_encoding, get_X_y\n",
    "\n",
    "# MLflow for model tracking\n",
    "import mlflow\n",
    "\n",
    "# Set global options for precision in numpy and pandas formatting\n",
    "np.set_printoptions(precision=4, suppress=True)\n",
    "pd.options.display.float_format = '{:.4f}'.format\n",
    "\n",
    "# Constant for reproducibility\n",
    "RANDOM_STATE = 42\n",
    "\n",
    "# Optionally, suppress runtime warnings (uncomment if needed)\n",
    "#warnings.filterwarnings(\"ignore\", category=RuntimeWarning)\n",
    "\n",
    "# Load environment variables from .env file\n",
    "load_dotenv()\n",
    "\n",
    "# Load environment variables\n",
    "env_var_names: list[str] = [\n",
    "    'DATA_DIR', 'MODEL_DIR',\n",
    "    'TRAIN_PARQUET', 'TEST_PARQUET',\n",
    "    'TRACKING_SERVER_CONN', 'MODEL_PKL', 'FITTED_MODEL', 'MODEL_PARAMS'\n",
    "]\n",
    "\n",
    "# Loop to load environment variables dynamically and set them globally\n",
    "for var in env_var_names:\n",
    "    globals()[var] = os.getenv(var)\n"
   ]
  },
  {
   "cell_type": "code",
   "execution_count": 2,
   "metadata": {},
   "outputs": [],
   "source": [
    "def calculate_roc_auc(y_true: np.ndarray, y_pred_proba: np.ndarray) -> dict:\n",
    "    \"\"\"\n",
    "    Calculate ROC AUC scores (micro, macro, and average) for multi-output classification.\n",
    "\n",
    "    Parameters:\n",
    "    y_true (np.ndarray): True labels.\n",
    "    y_pred_proba (np.ndarray): Predicted probabilities.\n",
    "\n",
    "    Returns:\n",
    "    dict: ROC AUC scores.\n",
    "    \"\"\"\n",
    "    if isinstance(y_pred_proba, list):\n",
    "        y_pred_proba = np.array(y_pred_proba)\n",
    "\n",
    "    if len(y_pred_proba.shape) == 3:\n",
    "        y_pred_proba_class_1 = y_pred_proba[:, :, 1].T\n",
    "    else:\n",
    "        y_pred_proba_class_1 = y_pred_proba\n",
    "\n",
    "    if isinstance(y_true, pd.DataFrame):\n",
    "        y_true = y_true.values\n",
    "\n",
    "    # Filter columns with more than one unique value\n",
    "    valid_columns = [col for col in range(y_true.shape[1]) if len(np.unique(y_true[:, col])) > 1]\n",
    "\n",
    "    return {\n",
    "        'micro': roc_auc_score(y_true[:, valid_columns], y_pred_proba_class_1[:, valid_columns], average='micro'),\n",
    "        'macro': roc_auc_score(y_true[:, valid_columns], y_pred_proba_class_1[:, valid_columns], average='macro'),\n",
    "        'average': roc_auc_score(y_true[:, valid_columns], y_pred_proba_class_1[:, valid_columns], average='weighted')\n",
    "    }\n",
    "\n",
    "\n",
    "def calculate_metrics(y_true: np.ndarray, y_pred: np.ndarray, y_pred_proba: np.ndarray, zero_division: int = 0) -> pd.DataFrame:\n",
    "    \"\"\"\n",
    "    Calculate various classification metrics such as Accuracy, Precision, Recall, F1, and ROC AUC.\n",
    "\n",
    "    Parameters:\n",
    "    y_true (np.ndarray): True labels.\n",
    "    y_pred (np.ndarray): Predicted labels.\n",
    "    y_pred_proba (np.ndarray): Predicted probabilities.\n",
    "    zero_division (int): Determines the behavior when division by zero occurs (default is 0).\n",
    "\n",
    "    Returns:\n",
    "    pd.DataFrame: DataFrame with calculated metrics for micro, macro, and average scores.\n",
    "    \"\"\"\n",
    "    metrics = {\n",
    "        'Accuracy': {\n",
    "            'micro': -1,\n",
    "            'macro': -1,\n",
    "            'average': accuracy_score(y_true, y_pred)\n",
    "        },\n",
    "        'Precision': {\n",
    "            'micro': precision_score(y_true, y_pred, average='micro', zero_division=zero_division),\n",
    "            'macro': precision_score(y_true, y_pred, average='macro', zero_division=zero_division),\n",
    "            'average': precision_score(y_true, y_pred, average='weighted', zero_division=zero_division)\n",
    "        },\n",
    "        'Recall': {\n",
    "            'micro': recall_score(y_true, y_pred, average='micro', zero_division=zero_division),\n",
    "            'macro': recall_score(y_true, y_pred, average='macro', zero_division=zero_division),\n",
    "            'average': recall_score(y_true, y_pred, average='weighted', zero_division=zero_division)\n",
    "        },\n",
    "        'F1': {\n",
    "            'micro': f1_score(y_true, y_pred, average='micro', zero_division=zero_division),\n",
    "            'macro': f1_score(y_true, y_pred, average='macro', zero_division=zero_division),\n",
    "            'average': f1_score(y_true, y_pred, average='weighted', zero_division=zero_division)\n",
    "        },\n",
    "        'ROC AUC': calculate_roc_auc(y_true, y_pred_proba)\n",
    "    }\n",
    "\n",
    "    return pd.DataFrame(metrics).T\n",
    "\n",
    "\n",
    "def plot_roc_curve(y_true: np.ndarray, y_pred_proba: np.ndarray, label_name: str) -> None:\n",
    "    \"\"\"\n",
    "    Plot the ROC curve for binary classification.\n",
    "\n",
    "    Parameters:\n",
    "    y_true (np.ndarray): True labels.\n",
    "    y_pred_proba (np.ndarray): Predicted probabilities.\n",
    "    label_name (str): Label for the ROC curve.\n",
    "    \"\"\"\n",
    "    if isinstance(y_true, pd.DataFrame):\n",
    "        y_true = y_true.values\n",
    "    \n",
    "    fpr, tpr, _ = roc_curve(y_true.ravel(), y_pred_proba.ravel())\n",
    "    roc_auc = auc(fpr, tpr)\n",
    "\n",
    "    # Plot the ROC curve\n",
    "    plt.plot(fpr, tpr, label=f'{label_name} (AUC = {roc_auc:.4f})')"
   ]
  },
  {
   "cell_type": "markdown",
   "metadata": {},
   "source": [
    "##### Запуск MLFlow"
   ]
  },
  {
   "cell_type": "markdown",
   "metadata": {},
   "source": [
    "Сервер MLFlow лучше запустить (см. Instructions.md):\n",
    " - скриптом sh run_mlflow.sh\n",
    " - в составе общего контейнера docker compose up --build\n",
    "  \n",
    "Если запустить MLFlow как субпроцесс в Jupyter, его нужно будет останавливать вручную"
   ]
  },
  {
   "cell_type": "markdown",
   "metadata": {},
   "source": [
    "```\n",
    "# Fetch necessary environment variables for PostgreSQL and S3\n",
    "DB_DESTINATION_USER = os.getenv('DB_DESTINATION_USER')\n",
    "DB_DESTINATION_PASSWORD = os.getenv('DB_DESTINATION_PASSWORD')\n",
    "DB_DESTINATION_HOST = os.getenv('DB_DESTINATION_HOST')\n",
    "DB_DESTINATION_PORT = os.getenv('DB_DESTINATION_PORT')\n",
    "DB_DESTINATION_NAME = os.getenv('DB_DESTINATION_NAME')\n",
    "S3_BUCKET_NAME = os.getenv('S3_BUCKET_NAME')\n",
    "\n",
    "# Construct the PostgreSQL connection string\n",
    "POSTGRES_SQL_CONN = f\"postgresql://{DB_DESTINATION_USER}:{DB_DESTINATION_PASSWORD}@{DB_DESTINATION_HOST}:{DB_DESTINATION_PORT}/{DB_DESTINATION_NAME}\"\n",
    "\n",
    "# Command to start MLflow server\n",
    "mlflow_command = [\n",
    "    \"mlflow\", \"server\",\n",
    "    \"--backend-store-uri\", POSTGRES_SQL_CONN,\n",
    "    \"--registry-store-uri\", POSTGRES_SQL_CONN,\n",
    "    \"--default-artifact-root\", f\"s3://{S3_BUCKET_NAME}\",\n",
    "    \"--no-serve-artifacts\",\n",
    "    \"--host\", \"0.0.0.0\",\n",
    "    \"--port\", \"5000\"\n",
    "]\n",
    "\n",
    "# Run the MLflow server command in the background\n",
    "process = subprocess.Popen(mlflow_command, stdout=subprocess.PIPE, stderr=subprocess.PIPE)\n",
    "\n",
    "# Output the PID of the process to confirm it's running\n",
    "print(f\"MLflow server started with PID: {process.pid}\")\n",
    "```"
   ]
  },
  {
   "cell_type": "code",
   "execution_count": 3,
   "metadata": {},
   "outputs": [
    {
     "name": "stdout",
     "output_type": "stream",
     "text": [
      "MLFlow сервер запущен.\n"
     ]
    }
   ],
   "source": [
    "# MLFlow сервер должен быть запущен\n",
    "\n",
    "def check_mlflow_server(url):\n",
    "    try:\n",
    "        response = requests.get(url)\n",
    "        if response.status_code == 200:\n",
    "            print(\"MLFlow сервер запущен.\")\n",
    "            return True\n",
    "        else:\n",
    "            print(\"MLFlow сервер вернул статус:\", response.status_code)\n",
    "            return False\n",
    "    except requests.exceptions.ConnectionError:\n",
    "        raise Exception(\"Не удалось связаться с MLFlow server.\") \n",
    "\n",
    "\n",
    "if check_mlflow_server(TRACKING_SERVER_CONN):\n",
    "    EXPERIMENT_NAME = 'Спринт 6: Проект'\n",
    "    mlflow.set_tracking_uri(TRACKING_SERVER_CONN)\n",
    "    mlflow.set_registry_uri(TRACKING_SERVER_CONN)"
   ]
  },
  {
   "cell_type": "code",
   "execution_count": 4,
   "metadata": {},
   "outputs": [
    {
     "name": "stdout",
     "output_type": "stream",
     "text": [
      "Активных запусков нет.\n"
     ]
    }
   ],
   "source": [
    "active_run = mlflow.active_run()\n",
    "if active_run:\n",
    "    print(f\"Активный запуск: {active_run.info.run_id}\")\n",
    "else:\n",
    "    print(\"Активных запусков нет.\")"
   ]
  },
  {
   "cell_type": "code",
   "execution_count": 5,
   "metadata": {},
   "outputs": [
    {
     "name": "stdout",
     "output_type": "stream",
     "text": [
      "Запуск текущего эксперимента с ID: b84e9205f8774ce5b86fc4c9dffdf629\n"
     ]
    }
   ],
   "source": [
    "RUN_NAME = \"CBC\"\n",
    "REGISTRY_MODEL_NAME = 'model_sprint_6_2'\n",
    "\n",
    "experiment = mlflow.get_experiment_by_name(EXPERIMENT_NAME)\n",
    "if experiment is None:\n",
    "    experiment_id = mlflow.create_experiment(EXPERIMENT_NAME)\n",
    "else:\n",
    "    experiment_id = experiment.experiment_id\n",
    "\n",
    "run = mlflow.start_run(run_name=RUN_NAME, experiment_id=experiment_id)\n",
    "print(f\"Запуск текущего эксперимента с ID: {run.info.run_id}\")\n"
   ]
  },
  {
   "cell_type": "markdown",
   "metadata": {},
   "source": [
    "##### Обучение модели"
   ]
  },
  {
   "cell_type": "code",
   "execution_count": 6,
   "metadata": {},
   "outputs": [],
   "source": [
    "#model = joblib.load(MODEL_DIR + MODEL_PKL)\n",
    "model = joblib.load(MODEL_DIR + FITTED_MODEL)"
   ]
  },
  {
   "cell_type": "markdown",
   "metadata": {},
   "source": [
    "Параметры модели, которую мы построили на предыдущем этапе:  \n",
    "CatBoostClassifier(iterations=100, verbose=0, class_weights = [1, 4])\n",
    "\n",
    "Среди задач проекта нет глубокой оптимизации модели.  \n",
    "Поэтому получим результат с некоторыми упрощениями:  \n",
    " - оставим небольшок количество итераций (100). Исходя из структуры данных, увеличение количества итераций до 500-1000 улучшит результат, но обучение на двух десятках таргетов займет много времени\n",
    " - нужно обязательно \"утяжелить\" миноритарный класс, подбор соотношения - задача дальнейшей оптимизации модели\n",
    " - остальные параметры оставим по умолчанию, хотя может быть необходимость настроить параметры деревьев, learning rate и т.д.\n",
    " - также усечем тренировочные данные с 14 до 8 месяцев. Так мы сократим время обучения, а также сконцентрируемся на более \"свежих\" данных.\n"
   ]
  },
  {
   "cell_type": "code",
   "execution_count": 7,
   "metadata": {},
   "outputs": [
    {
     "name": "stdout",
     "output_type": "stream",
     "text": [
      "CPU times: user 5.41 s, sys: 2.5 s, total: 7.91 s\n",
      "Wall time: 4.95 s\n"
     ]
    }
   ],
   "source": [
    "%%time\n",
    "# ~ 16 min\n",
    "\n",
    "df_train = pd.read_parquet(DATA_DIR + TRAIN_PARQUET)\n",
    "\n",
    "start_date_of_train = '2015-07-28'\n",
    "df_train = df_train[df_train.fetch_date >= start_date_of_train]\n",
    "\n",
    "df_test = pd.read_parquet(DATA_DIR + TEST_PARQUET)\n",
    "\n",
    "X_train, y_train = get_X_y(df_train, df_train.attrs['target__'])\n",
    "X_test, y_test = get_X_y(df_test, df_test.attrs['target__'])\n",
    "\n",
    "target_cols = [col for col in y_train.columns if y_train[col].nunique() > 1]"
   ]
  },
  {
   "cell_type": "code",
   "execution_count": 8,
   "metadata": {},
   "outputs": [],
   "source": [
    "#model.fit(X_train, y_train[target_cols])"
   ]
  },
  {
   "cell_type": "markdown",
   "metadata": {},
   "source": [
    "Можно вывести важности признаков, но эти данные потребуют дополнительного анализа по всем таргетам."
   ]
  },
  {
   "cell_type": "code",
   "execution_count": 9,
   "metadata": {},
   "outputs": [
    {
     "data": {
      "text/html": [
       "<div>\n",
       "<style scoped>\n",
       "    .dataframe tbody tr th:only-of-type {\n",
       "        vertical-align: middle;\n",
       "    }\n",
       "\n",
       "    .dataframe tbody tr th {\n",
       "        vertical-align: top;\n",
       "    }\n",
       "\n",
       "    .dataframe thead th {\n",
       "        text-align: right;\n",
       "    }\n",
       "</style>\n",
       "<table border=\"1\" class=\"dataframe\">\n",
       "  <thead>\n",
       "    <tr style=\"text-align: right;\">\n",
       "      <th></th>\n",
       "      <th>0</th>\n",
       "    </tr>\n",
       "  </thead>\n",
       "  <tbody>\n",
       "    <tr>\n",
       "      <th>gender</th>\n",
       "      <td>40.6936</td>\n",
       "    </tr>\n",
       "    <tr>\n",
       "      <th>age</th>\n",
       "      <td>11.1380</td>\n",
       "    </tr>\n",
       "    <tr>\n",
       "      <th>ind_employee</th>\n",
       "      <td>10.8144</td>\n",
       "    </tr>\n",
       "    <tr>\n",
       "      <th>ind_1m_pension_obligation_account</th>\n",
       "      <td>8.5310</td>\n",
       "    </tr>\n",
       "    <tr>\n",
       "      <th>ind_client_activity</th>\n",
       "      <td>6.8269</td>\n",
       "    </tr>\n",
       "    <tr>\n",
       "      <th>id</th>\n",
       "      <td>3.9839</td>\n",
       "    </tr>\n",
       "    <tr>\n",
       "      <th>ind_1m_tax_account</th>\n",
       "      <td>2.4307</td>\n",
       "    </tr>\n",
       "    <tr>\n",
       "      <th>ind_1m_salary_acc</th>\n",
       "      <td>2.3021</td>\n",
       "    </tr>\n",
       "    <tr>\n",
       "      <th>ind_1m_home_acc</th>\n",
       "      <td>2.1473</td>\n",
       "    </tr>\n",
       "    <tr>\n",
       "      <th>ind_new_client</th>\n",
       "      <td>1.8689</td>\n",
       "    </tr>\n",
       "    <tr>\n",
       "      <th>province_code</th>\n",
       "      <td>1.8536</td>\n",
       "    </tr>\n",
       "    <tr>\n",
       "      <th>fetch_date</th>\n",
       "      <td>1.8405</td>\n",
       "    </tr>\n",
       "    <tr>\n",
       "      <th>client_type_1m</th>\n",
       "      <td>1.7488</td>\n",
       "    </tr>\n",
       "  </tbody>\n",
       "</table>\n",
       "</div>"
      ],
      "text/plain": [
       "                                        0\n",
       "gender                            40.6936\n",
       "age                               11.1380\n",
       "ind_employee                      10.8144\n",
       "ind_1m_pension_obligation_account  8.5310\n",
       "ind_client_activity                6.8269\n",
       "id                                 3.9839\n",
       "ind_1m_tax_account                 2.4307\n",
       "ind_1m_salary_acc                  2.3021\n",
       "ind_1m_home_acc                    2.1473\n",
       "ind_new_client                     1.8689\n",
       "province_code                      1.8536\n",
       "fetch_date                         1.8405\n",
       "client_type_1m                     1.7488"
      ]
     },
     "execution_count": 9,
     "metadata": {},
     "output_type": "execute_result"
    }
   ],
   "source": [
    "df_importance = pd.DataFrame([model.steps[2][1].estimators_[0].get_feature_importance()], columns=X_train.columns).T.sort_values(by=0, ascending=False)\n",
    "df_importance[df_importance[0] > 1]"
   ]
  },
  {
   "cell_type": "markdown",
   "metadata": {},
   "source": [
    "(Для первого таргета пол стоит на первом месте, хотя общей зависимости таргетов от этой переменной не было.)\n",
    "  \n",
    "Получим данные для метрик."
   ]
  },
  {
   "cell_type": "code",
   "execution_count": 10,
   "metadata": {},
   "outputs": [],
   "source": [
    "joblib.dump(model, MODEL_DIR + FITTED_MODEL)\n",
    "\n",
    "y_pred = model.predict(X_test)\n",
    "y_pred_proba = model.predict_proba(X_test)\n",
    "\n",
    "y_true = y_test[target_cols]"
   ]
  },
  {
   "cell_type": "markdown",
   "metadata": {},
   "source": [
    "##### Подготовка функций для встраивания модели в сервис предсказаний"
   ]
  },
  {
   "cell_type": "markdown",
   "metadata": {},
   "source": [
    "Для мониторинга предсказаний нам потребуются имена таргетов на русском (для FastAPI) и на английском (Graphite принимает только ASCII названия).  \n",
    "Для обработки часто встречающихся пропусков в 'income' сохраним среднее значение как параметр."
   ]
  },
  {
   "cell_type": "code",
   "execution_count": 11,
   "metadata": {},
   "outputs": [],
   "source": [
    "target_names = [X_train.attrs[x[len('target__'):]][0] for x in target_cols]\n",
    "target_names_eng = [X_train.attrs[x[len('target__'):]][1] for x in target_cols]\n",
    "income_mean = X_train['income'].mean()\n",
    "\n",
    "model_params = {\n",
    "    'target_names': target_names,\n",
    "    'target_names_eng': target_names_eng,\n",
    "    'income_mean': income_mean\n",
    "}\n",
    "\n",
    "with open(MODEL_DIR + MODEL_PARAMS, 'w') as f:\n",
    "    json.dump(model_params, f)\n",
    "\n",
    "mlflow.log_artifact(MODEL_DIR + MODEL_PARAMS)"
   ]
  },
  {
   "cell_type": "markdown",
   "metadata": {},
   "source": [
    "Для тестирования сервиса нам нужно будет генерировать json запросы, а для получения предсказаний нужен DataFrame.\n",
    "Для этого создадим некоторые функции преобразования, смысл которых понятен из аннотаций."
   ]
  },
  {
   "cell_type": "code",
   "execution_count": 12,
   "metadata": {},
   "outputs": [],
   "source": [
    "def safe_strftime(date_value: pd.Timestamp) -> Optional[str]:\n",
    "    \"\"\"\n",
    "    Safely convert a pandas Timestamp to a string in 'dd-mm-yyyy' format.\n",
    "    If the value is NaT (not a time), return None.\n",
    "\n",
    "    Parameters:\n",
    "    - date_value (pd.Timestamp): A timestamp to convert.\n",
    "\n",
    "    Returns:\n",
    "    - str or None: The formatted date string or None if the value is NaT.\n",
    "    \"\"\"\n",
    "    if pd.isnull(date_value):  # Check for NaT (Not a Time)\n",
    "        return None\n",
    "    return date_value.strftime('%d-%m-%Y')  # Format the date as dd-mm-yyyy\n",
    "\n",
    "\n",
    "def save_row_to_json(row: pd.Series, json_file: str) -> None:\n",
    "    \"\"\"\n",
    "    Save a pandas Series (row) to a JSON file, converting datetime fields safely.\n",
    "\n",
    "    Parameters:\n",
    "    - row (pd.Series): The row of data to save.\n",
    "    - json_file (str): The path to the JSON file to save the data.\n",
    "\n",
    "    Returns:\n",
    "    - None: The function writes the row to a file and doesn't return anything.\n",
    "    \"\"\"\n",
    "    row = row.copy()  # Make a copy of the row to avoid modifying the original\n",
    "    \n",
    "    # Safely convert datetime fields to string format\n",
    "    row['fetch_date'] = safe_strftime(row['fetch_date'])\n",
    "    row['registration_date'] = safe_strftime(row['registration_date'])\n",
    "    row['last_date_as_primary'] = safe_strftime(row['last_date_as_primary'])\n",
    "    \n",
    "    # Convert the row to JSON format\n",
    "    json_data = row.to_json(orient='index', indent=4)\n",
    "    \n",
    "    # Write the JSON data to the specified file\n",
    "    with open(json_file, 'w') as f:\n",
    "        f.write(json_data)\n",
    "\n",
    "save_row_to_json(X_test.iloc[376088], 'sample.json')\n"
   ]
  },
  {
   "cell_type": "code",
   "execution_count": 13,
   "metadata": {},
   "outputs": [
    {
     "name": "stdout",
     "output_type": "stream",
     "text": [
      "Bank Guarantee 0\n",
      "Checking Account 1\n",
      "Derivatives Account 0\n",
      "Payroll Account 1\n",
      "Junior Account 0\n",
      "Special Account 3 0\n",
      "Operations Account 0\n",
      "Special Account 2 0\n",
      "Short-Term Deposit 0\n",
      "Medium-Term Deposit 0\n",
      "Long-Term Deposit 0\n",
      "Digital Account 0\n",
      "Cash Funds 0\n",
      "Mortgage 0\n",
      "Pension Plan 0\n",
      "Loans 0\n",
      "Tax Account 0\n",
      "Credit Card 0\n",
      "Securities 0\n",
      "Home Account 0\n",
      "Salary Account 1\n",
      "Pension Obligation Account 1\n",
      "Debit Account 0\n"
     ]
    }
   ],
   "source": [
    "def load_row_from_json(json_file: str) -> pd.DataFrame:\n",
    "    \"\"\"\n",
    "    Load a row from a JSON file and convert it into a pandas DataFrame.\n",
    "    Handles datetime fields and assigns a mean value to the 'income' column if it's missing.\n",
    "\n",
    "    Parameters:\n",
    "    - json_file (str): Path to the JSON file.\n",
    "\n",
    "    Returns:\n",
    "    - pd.DataFrame: A DataFrame containing the loaded row.\n",
    "    \"\"\"\n",
    "    # Load the JSON data as a pandas Series\n",
    "    row_loaded = pd.read_json(json_file, typ='series')\n",
    "    \n",
    "    # Convert string dates back into datetime format\n",
    "    row_loaded['fetch_date'] = pd.to_datetime(row_loaded['fetch_date'], format='%d-%m-%Y')\n",
    "    row_loaded['registration_date'] = pd.to_datetime(row_loaded['registration_date'], format='%d-%m-%Y')\n",
    "    row_loaded['last_date_as_primary'] = pd.to_datetime(row_loaded['last_date_as_primary'], format='%d-%m-%Y')\n",
    "    \n",
    "    # Handle missing 'income' value by assigning the mean income\n",
    "    if row_loaded['income'] is None:\n",
    "        row_loaded['income'] = income_mean\n",
    "    \n",
    "    # Return as a single-row DataFrame\n",
    "    return pd.DataFrame([row_loaded])\n",
    "\n",
    "\n",
    "def interpret_predictions(predictions: list, lang: str = 'rus') -> Dict[str, int]:\n",
    "    \"\"\"\n",
    "    Interpret the model predictions by mapping the prediction columns to target names.\n",
    "\n",
    "    Parameters:\n",
    "    - predictions (list): List of predicted values.\n",
    "    - lang (str): Language for target names, 'rus' for Russian, 'eng' for English.\n",
    "\n",
    "    Returns:\n",
    "    - dict: A dictionary mapping target names to predicted values.\n",
    "    \"\"\"\n",
    "    # Select appropriate target names based on language\n",
    "    if lang == 'rus':\n",
    "        targets = target_names\n",
    "    else:\n",
    "        targets = target_names_eng\n",
    "    \n",
    "    # Map the predictions to target names\n",
    "    res = {name: int(pred) for pred, name in zip(predictions, targets)}\n",
    "    return res\n",
    "\n",
    "\n",
    "prediction = model.predict(load_row_from_json('sample.json'))[0]\n",
    "\n",
    "predictions_dict = interpret_predictions(prediction, lang='eng')\n",
    "\n",
    "for target, prediction in predictions_dict.items():\n",
    "    print(target, prediction)"
   ]
  },
  {
   "cell_type": "markdown",
   "metadata": {},
   "source": [
    "В итоге мы создали образец json в файле sample.json и получили функцию для вывода предсказаний модели на английском и русском языках.  \n",
    "\n",
    "Вернемся к оценке предсказаний."
   ]
  },
  {
   "cell_type": "markdown",
   "metadata": {},
   "source": [
    "##### Получение и интерпретация метрик"
   ]
  },
  {
   "cell_type": "code",
   "execution_count": 14,
   "metadata": {},
   "outputs": [
    {
     "data": {
      "image/png": "[encoded data removed]",
      "text/plain": [
       "<Figure size 2000x600 with 1 Axes>"
      ]
     },
     "metadata": {},
     "output_type": "display_data"
    }
   ],
   "source": [
    "plot_data = pd.DataFrame({\n",
    "    'True': y_true.sum(axis=0),\n",
    "    'Predicted': np.sum(y_pred, axis=0)\n",
    "})\n",
    "\n",
    "plot_data_sorted = plot_data.sort_values(by='True')\n",
    "\n",
    "plt.figure(figsize=(20, 6))\n",
    "plt.title(f\"Сравнение истинных и предсказанных меток\")\n",
    "plt.ylabel(\"Продукты\")\n",
    "plt.xlabel(\"Количество покупок\")\n",
    "\n",
    "y_labels = [df_train.attrs[col[8:]][0] for col in plot_data_sorted.index]\n",
    "plt.barh(y_labels, plot_data_sorted['True'], label='Истинные метки', alpha=0.5, color='b')\n",
    "plt.barh(y_labels, plot_data_sorted['Predicted'], label='Предсказанные', alpha=0.5, color='r')\n",
    "\n",
    "plt.legend(loc='lower right')\n",
    "\n",
    "plot_path = \"compare_plot.png\"\n",
    "plt.savefig(plot_path)\n",
    "\n",
    "plt.show()\n",
    "\n",
    "\n",
    "mlflow.log_artifact(plot_path)\n",
    "\n",
    "os.remove(plot_path)"
   ]
  },
  {
   "cell_type": "markdown",
   "metadata": {},
   "source": [
    "Видим, что модель (неглубоко обученная) неплохо собирает положительные таргеты, отличает их друг от друга, но ошибается в частоте предсказаний,  неравномерно недооценивает/переоценивает различные таргеты.  \n",
    "Залогируем модель, а потом и метрики."
   ]
  },
  {
   "cell_type": "code",
   "execution_count": 15,
   "metadata": {},
   "outputs": [
    {
     "name": "stderr",
     "output_type": "stream",
     "text": [
      "Registered model 'model_sprint_6_2' already exists. Creating a new version of this model...\n",
      "2024/09/14 08:43:31 INFO mlflow.store.model_registry.abstract_store: Waiting up to 60 seconds for model version to finish creation. Model name: model_sprint_6_2, version 13\n",
      "Created version '13' of model 'model_sprint_6_2'.\n"
     ]
    }
   ],
   "source": [
    "warnings.filterwarnings(\"ignore\", category=UserWarning)\n",
    "\n",
    "X_test['ind_spouse_employee'] = X_test['ind_spouse_employee'].fillna(0)\n",
    "\n",
    "mlflow.sklearn.log_model(\n",
    "    sk_model=model,\n",
    "    artifact_path='models',\n",
    "    registered_model_name=REGISTRY_MODEL_NAME,\n",
    "    signature=mlflow.models.infer_signature(X_test[:10], model.predict(X_test[:10])),\n",
    "    await_registration_for=60,\n",
    "    pip_requirements='requirements.txt'\n",
    ")\n",
    "\n",
    "mlflow.log_params(model.get_params())"
   ]
  },
  {
   "cell_type": "code",
   "execution_count": 16,
   "metadata": {},
   "outputs": [
    {
     "data": {
      "text/html": [
       "<div>\n",
       "<style scoped>\n",
       "    .dataframe tbody tr th:only-of-type {\n",
       "        vertical-align: middle;\n",
       "    }\n",
       "\n",
       "    .dataframe tbody tr th {\n",
       "        vertical-align: top;\n",
       "    }\n",
       "\n",
       "    .dataframe thead th {\n",
       "        text-align: right;\n",
       "    }\n",
       "</style>\n",
       "<table border=\"1\" class=\"dataframe\">\n",
       "  <thead>\n",
       "    <tr style=\"text-align: right;\">\n",
       "      <th></th>\n",
       "      <th>micro</th>\n",
       "      <th>macro</th>\n",
       "      <th>average</th>\n",
       "    </tr>\n",
       "  </thead>\n",
       "  <tbody>\n",
       "    <tr>\n",
       "      <th>Accuracy</th>\n",
       "      <td>-1.0000</td>\n",
       "      <td>-1.0000</td>\n",
       "      <td>0.8285</td>\n",
       "    </tr>\n",
       "    <tr>\n",
       "      <th>Precision</th>\n",
       "      <td>0.3167</td>\n",
       "      <td>0.1899</td>\n",
       "      <td>0.2988</td>\n",
       "    </tr>\n",
       "    <tr>\n",
       "      <th>Recall</th>\n",
       "      <td>0.2371</td>\n",
       "      <td>0.1171</td>\n",
       "      <td>0.2371</td>\n",
       "    </tr>\n",
       "    <tr>\n",
       "      <th>F1</th>\n",
       "      <td>0.2712</td>\n",
       "      <td>0.1298</td>\n",
       "      <td>0.2499</td>\n",
       "    </tr>\n",
       "    <tr>\n",
       "      <th>ROC AUC</th>\n",
       "      <td>0.9581</td>\n",
       "      <td>0.8324</td>\n",
       "      <td>0.8791</td>\n",
       "    </tr>\n",
       "  </tbody>\n",
       "</table>\n",
       "</div>"
      ],
      "text/plain": [
       "            micro   macro  average\n",
       "Accuracy  -1.0000 -1.0000   0.8285\n",
       "Precision  0.3167  0.1899   0.2988\n",
       "Recall     0.2371  0.1171   0.2371\n",
       "F1         0.2712  0.1298   0.2499\n",
       "ROC AUC    0.9581  0.8324   0.8791"
      ]
     },
     "metadata": {},
     "output_type": "display_data"
    }
   ],
   "source": [
    "metrics = calculate_metrics(y_true, y_pred, y_pred_proba)\n",
    "\n",
    "display(metrics)\n",
    "\n",
    "metrics_dict = {\n",
    "    f'{metric}_{metric_type}': metrics.loc[metric, metric_type]\n",
    "    for metric in metrics.index\n",
    "    for metric_type in metrics.columns\n",
    "}\n",
    "\n",
    "mlflow.log_metrics(metrics_dict)"
   ]
  },
  {
   "cell_type": "markdown",
   "metadata": {},
   "source": [
    "В целом, картина полчилась адекватная.  \n",
    "Accuracy высокая из-за превалирующего количества предсказаний мажоритарного класса (0).  \n",
    "Микро-метрики, то есть усредненные по всем наблюдениям, в целом лучше, чем макро-усредненные по классам, т.к. классы очень разные.  \n",
    "Ну и высокая ROC-AUC, показывающая, что модель хорошо отличает класс 1 от класса 0.  \n",
    "В общем, для разреженных, несбалансированны данных и неоптимизированной модели, предсказание покупки в 25-30% случаев - неплохой результат."
   ]
  },
  {
   "cell_type": "code",
   "execution_count": 17,
   "metadata": {},
   "outputs": [
    {
     "data": {
      "image/png": "[encoded data removed]",
      "text/plain": [
       "<Figure size 600x400 with 1 Axes>"
      ]
     },
     "metadata": {},
     "output_type": "display_data"
    }
   ],
   "source": [
    "plt.figure(figsize=(6, 4))\n",
    "y_pred_proba_class_1 = np.array(y_pred_proba)[:, :, 1].T \n",
    "plot_roc_curve(y_true, y_pred_proba_class_1, 'CatBoost Classifier')\n",
    "\n",
    "constant_baseline_proba = np.full(y_true.shape, 0.5)\n",
    "plot_roc_curve(y_true, constant_baseline_proba, 'Константная модель')\n",
    "\n",
    "label_frequencies = y_train[target_cols].mean(axis=0)\n",
    "frequency_based_baseline_proba = np.tile(label_frequencies.values, (y_true.shape[0], 1))\n",
    "plot_roc_curve(y_true, frequency_based_baseline_proba, 'Частотная модель')\n",
    "\n",
    "plt.plot([0, 1], [0, 1], 'k--')\n",
    "plt.xlim([0.0, 1.0])\n",
    "plt.ylim([0.0, 1.05])\n",
    "plt.xlabel('False Positive Rate')\n",
    "plt.ylabel('True Positive Rate')\n",
    "plt.title('Сравнение ROC кривых обучаемой и базовых моделей')\n",
    "plt.legend(loc='lower right')\n",
    "plt.show()"
   ]
  },
  {
   "cell_type": "markdown",
   "metadata": {},
   "source": [
    "##### Сравнение метрик модели с константными предсказаниями"
   ]
  },
  {
   "cell_type": "markdown",
   "metadata": {},
   "source": [
    "Как видно из графика, частотная baseline модель может показать высокую ROC AUC, если будет выбирать самые популярные продукты.  \n",
    "Сравним нашу модель с константными более основательно.  \n",
    "Попробуем в каждом таргете сохранить средние значения по всем наблюдениям."
   ]
  },
  {
   "cell_type": "code",
   "execution_count": 22,
   "metadata": {},
   "outputs": [
    {
     "data": {
      "text/plain": [
       "target__ind_1m_checking_acc                 0.0289\n",
       "target__ind_1m_credit_card                  0.0230\n",
       "target__ind_1m_salary_acc                   0.0263\n",
       "target__ind_1m_pension_obligation_account   0.0289\n",
       "target__ind_1m_debit_account                0.0556\n",
       "dtype: float64"
      ]
     },
     "execution_count": 22,
     "metadata": {},
     "output_type": "execute_result"
    }
   ],
   "source": [
    "threshold = 0.02\n",
    "\n",
    "y_train.mean(axis=0)[y_train.mean(axis=0) > 0.02]"
   ]
  },
  {
   "cell_type": "code",
   "execution_count": 23,
   "metadata": {},
   "outputs": [
    {
     "name": "stdout",
     "output_type": "stream",
     "text": [
      "Метрики базовой модели на константных средних\n"
     ]
    },
    {
     "data": {
      "text/html": [
       "<div>\n",
       "<style scoped>\n",
       "    .dataframe tbody tr th:only-of-type {\n",
       "        vertical-align: middle;\n",
       "    }\n",
       "\n",
       "    .dataframe tbody tr th {\n",
       "        vertical-align: top;\n",
       "    }\n",
       "\n",
       "    .dataframe thead th {\n",
       "        text-align: right;\n",
       "    }\n",
       "</style>\n",
       "<table border=\"1\" class=\"dataframe\">\n",
       "  <thead>\n",
       "    <tr style=\"text-align: right;\">\n",
       "      <th></th>\n",
       "      <th>micro</th>\n",
       "      <th>macro</th>\n",
       "      <th>average</th>\n",
       "    </tr>\n",
       "  </thead>\n",
       "  <tbody>\n",
       "    <tr>\n",
       "      <th>Accuracy</th>\n",
       "      <td>-1.0000</td>\n",
       "      <td>-1.0000</td>\n",
       "      <td>0.0000</td>\n",
       "    </tr>\n",
       "    <tr>\n",
       "      <th>Precision</th>\n",
       "      <td>0.0190</td>\n",
       "      <td>0.0033</td>\n",
       "      <td>0.0182</td>\n",
       "    </tr>\n",
       "    <tr>\n",
       "      <th>Recall</th>\n",
       "      <td>0.4391</td>\n",
       "      <td>0.1739</td>\n",
       "      <td>0.4391</td>\n",
       "    </tr>\n",
       "    <tr>\n",
       "      <th>F1</th>\n",
       "      <td>0.0365</td>\n",
       "      <td>0.0064</td>\n",
       "      <td>0.0348</td>\n",
       "    </tr>\n",
       "    <tr>\n",
       "      <th>ROC AUC</th>\n",
       "      <td>0.5692</td>\n",
       "      <td>0.5000</td>\n",
       "      <td>0.5000</td>\n",
       "    </tr>\n",
       "  </tbody>\n",
       "</table>\n",
       "</div>"
      ],
      "text/plain": [
       "            micro   macro  average\n",
       "Accuracy  -1.0000 -1.0000   0.0000\n",
       "Precision  0.0190  0.0033   0.0182\n",
       "Recall     0.4391  0.1739   0.4391\n",
       "F1         0.0365  0.0064   0.0348\n",
       "ROC AUC    0.5692  0.5000   0.5000"
      ]
     },
     "execution_count": 23,
     "metadata": {},
     "output_type": "execute_result"
    }
   ],
   "source": [
    "n_rows = y_pred.shape[0]\n",
    "n_columns = y_pred.shape[1]\n",
    "\n",
    "\n",
    "mean_class_probs = y_train.mean(axis=0)\n",
    "constant_baseline_proba = np.array([\n",
    "    np.tile([1 - mean_class_probs.iloc[i], mean_class_probs.iloc[i]], (n_rows, 1)) \n",
    "    for i in range(n_columns)\n",
    "])\n",
    "\n",
    "y_pred_constant = (constant_baseline_proba[:, :, 1].T > threshold).astype(int)\n",
    "\n",
    "print(\"Метрики базовой модели на константных средних\")\n",
    "calculate_metrics(y_true, y_pred_constant, constant_baseline_proba)\n",
    "\n",
    "# Acc = 0, т.к. не было случаев совпадения предсказаний  по всем меткам сразу (т.е. где 5 выбранных таргетов == 1)"
   ]
  },
  {
   "cell_type": "markdown",
   "metadata": {},
   "source": [
    "Видим, что полнота даже выше, чем у нашей модели, то есть константная модель на средних собирает больше 1, но, к сожалению, очень неточно, из-за чего точность < 2%.  Тут даже Accuracy == 0, то есть константы не различают классы.  \n",
    "  \n",
    "Другая модель пытается сохранить частоту появления положительных предсказаний для каждого таргета."
   ]
  },
  {
   "cell_type": "code",
   "execution_count": 24,
   "metadata": {},
   "outputs": [
    {
     "name": "stdout",
     "output_type": "stream",
     "text": [
      "Метрики частотной базовой модели\n"
     ]
    },
    {
     "data": {
      "text/html": [
       "<div>\n",
       "<style scoped>\n",
       "    .dataframe tbody tr th:only-of-type {\n",
       "        vertical-align: middle;\n",
       "    }\n",
       "\n",
       "    .dataframe tbody tr th {\n",
       "        vertical-align: top;\n",
       "    }\n",
       "\n",
       "    .dataframe thead th {\n",
       "        text-align: right;\n",
       "    }\n",
       "</style>\n",
       "<table border=\"1\" class=\"dataframe\">\n",
       "  <thead>\n",
       "    <tr style=\"text-align: right;\">\n",
       "      <th></th>\n",
       "      <th>micro</th>\n",
       "      <th>macro</th>\n",
       "      <th>average</th>\n",
       "    </tr>\n",
       "  </thead>\n",
       "  <tbody>\n",
       "    <tr>\n",
       "      <th>Accuracy</th>\n",
       "      <td>-1.0000</td>\n",
       "      <td>-1.0000</td>\n",
       "      <td>0.7450</td>\n",
       "    </tr>\n",
       "    <tr>\n",
       "      <th>Precision</th>\n",
       "      <td>0.0156</td>\n",
       "      <td>0.0072</td>\n",
       "      <td>0.0230</td>\n",
       "    </tr>\n",
       "    <tr>\n",
       "      <th>Recall</th>\n",
       "      <td>0.0131</td>\n",
       "      <td>0.0056</td>\n",
       "      <td>0.0131</td>\n",
       "    </tr>\n",
       "    <tr>\n",
       "      <th>F1</th>\n",
       "      <td>0.0142</td>\n",
       "      <td>0.0034</td>\n",
       "      <td>0.0155</td>\n",
       "    </tr>\n",
       "    <tr>\n",
       "      <th>ROC AUC</th>\n",
       "      <td>0.5692</td>\n",
       "      <td>0.5000</td>\n",
       "      <td>0.5000</td>\n",
       "    </tr>\n",
       "  </tbody>\n",
       "</table>\n",
       "</div>"
      ],
      "text/plain": [
       "            micro   macro  average\n",
       "Accuracy  -1.0000 -1.0000   0.7450\n",
       "Precision  0.0156  0.0072   0.0230\n",
       "Recall     0.0131  0.0056   0.0131\n",
       "F1         0.0142  0.0034   0.0155\n",
       "ROC AUC    0.5692  0.5000   0.5000"
      ]
     },
     "execution_count": 24,
     "metadata": {},
     "output_type": "execute_result"
    }
   ],
   "source": [
    "y_pred_frequency_based = np.zeros_like(y_true)\n",
    "\n",
    "for i in range(n_columns):\n",
    "    num_ones = int(y_train.iloc[:, i].mean() * n_rows)\n",
    "    ones_indices = np.random.choice(n_rows, num_ones, replace=False)\n",
    "    y_pred_frequency_based[ones_indices, i] = 1\n",
    "\n",
    "class_1_frequencies = y_train.mean(axis=0)\n",
    "y_pred_proba_frequency_based = np.array([\n",
    "    np.tile([1 - class_1_frequencies.iloc[i], class_1_frequencies.iloc[i]], (n_rows, 1))\n",
    "    for i in range(n_columns)\n",
    "])\n",
    "\n",
    "print(\"Метрики частотной базовой модели\")\n",
    "metrics = calculate_metrics(y_true, y_pred_frequency_based, y_pred_proba_frequency_based)\n",
    "metrics"
   ]
  },
  {
   "cell_type": "markdown",
   "metadata": {},
   "source": [
    "Значение Accuracy высокое, т.к. частоты 0 тоже похожи на реальные, но остальные метрики также на уровне погрешности.  \n",
    "Таким образом, наша обученная модель не просто знает частоту и средние значения таргетов, а хорошо умеет отделять класс 1 от класса 0 и отличать таргеты друг от друга."
   ]
  },
  {
   "cell_type": "code",
   "execution_count": 25,
   "metadata": {},
   "outputs": [
    {
     "name": "stdout",
     "output_type": "stream",
     "text": [
      "Залогированы параметры: {'memory': 'None', 'steps': \"[('preprocessor', DataFrameProcessor()), ('encoder', ColumnTransformer(force_int_remainder_cols=False, remainder='passthrough',\\n                  transformers=[('num', MinMaxScaler(),\\n                                 ['age', 'tenure_months', 'income',\\n                                  'fetch_year', 'fetch_month',\\n                                  'number_of_products']),\\n                                ('onehot', OneHotEncoder(drop='first'),\\n                                 ['gender', 'client_type_1m',\\n                                  'client_activity_1m', 'ind_foreigner',\\n                                  'client_segment']),\\n                                ('freq',\\n                                 FunctionTransformer(func=<function frequency_encoding at 0x7efefd4aeef0>),\\n                                 ['entry_channel', 'province_code'])])), ('model', MultiOutputClassifier(estimator=<catboost.core.CatBoostClassifier object at 0x7efefbdcd090>))]\", 'verbose': 'False', 'preprocessor': 'DataFrameProcessor()', 'encoder': \"ColumnTransformer(force_int_remainder_cols=False, remainder='passthrough',\\n                  transformers=[('num', MinMaxScaler(),\\n                                 ['age', 'tenure_months', 'income',\\n                                  'fetch_year', 'fetch_month',\\n                                  'number_of_products']),\\n                                ('onehot', OneHotEncoder(drop='first'),\\n                                 ['gender', 'client_type_1m',\\n                                  'client_activity_1m', 'ind_foreigner',\\n                                  'client_segment']),\\n                                ('freq',\\n                                 FunctionTransformer(func=<function frequency_encoding at 0x7efefd4aeef0>),\\n                                 ['entry_channel', 'province_code'])])\", 'model': 'MultiOutputClassifier(estimator=<catboost.core.CatBoostClassifier object at 0x7efefbdcd090>)', 'encoder__force_int_remainder_cols': 'False', 'encoder__n_jobs': 'None', 'encoder__remainder': 'passthrough', 'encoder__sparse_threshold': '0.3', 'encoder__transformer_weights': 'None', 'encoder__transformers': \"[('num', MinMaxScaler(), ['age', 'tenure_months', 'income', 'fetch_year', 'fetch_month', 'number_of_products']), ('onehot', OneHotEncoder(drop='first'), ['gender', 'client_type_1m', 'client_activity_1m', 'ind_foreigner', 'client_segment']), ('freq', FunctionTransformer(func=<function frequency_encoding at 0x7efefd4aeef0>), ['entry_channel', 'province_code'])]\", 'encoder__verbose': 'False', 'encoder__verbose_feature_names_out': 'True', 'encoder__num': 'MinMaxScaler()', 'encoder__onehot': \"OneHotEncoder(drop='first')\", 'encoder__freq': 'FunctionTransformer(func=<function frequency_encoding at 0x7efefd4aeef0>)', 'encoder__num__clip': 'False', 'encoder__num__copy': 'True', 'encoder__num__feature_range': '(0, 1)', 'encoder__onehot__categories': 'auto', 'encoder__onehot__drop': 'first', 'encoder__onehot__dtype': \"<class 'numpy.float64'>\", 'encoder__onehot__feature_name_combiner': 'concat', 'encoder__onehot__handle_unknown': 'error', 'encoder__onehot__max_categories': 'None', 'encoder__onehot__min_frequency': 'None', 'encoder__onehot__sparse_output': 'True', 'encoder__freq__accept_sparse': 'False', 'encoder__freq__check_inverse': 'True', 'encoder__freq__feature_names_out': 'None', 'encoder__freq__func': '<function frequency_encoding at 0x7efefd4aeef0>', 'encoder__freq__inv_kw_args': 'None', 'encoder__freq__inverse_func': 'None', 'encoder__freq__kw_args': 'None', 'encoder__freq__validate': 'False', 'model__estimator__iterations': '100', 'model__estimator__verbose': '0', 'model__estimator__class_weights': '[1, 4]', 'model__estimator': '<catboost.core.CatBoostClassifier object at 0x7efefbdcd090>', 'model__n_jobs': 'None'}\n",
      "Залогированы метрики: {'Accuracy_micro': -1.0, 'Accuracy_macro': -1.0, 'Accuracy_average': 0.828480075101637, 'Precision_micro': 0.316702609236269, 'Precision_macro': 0.18986841852649902, 'Precision_average': 0.29880307566688336, 'Recall_micro': 0.23705373373082236, 'Recall_macro': 0.11712600268921028, 'Recall_average': 0.23705373373082236, 'F1_micro': 0.27115007152599885, 'F1_macro': 0.12980459192635843, 'F1_average': 0.2499441743789615, 'ROC AUC_micro': 0.9580573332866994, 'ROC AUC_macro': 0.8323616297568132, 'ROC AUC_average': 0.8790950075922667}\n",
      "Модель model_sprint_6_2 была зарегистрирована.\n"
     ]
    }
   ],
   "source": [
    "run_id = run.info.run_id\n",
    "run_details = mlflow.get_run(run_id)\n",
    "\n",
    "params = run_details.data.params\n",
    "print(\"Залогированы параметры:\", params)\n",
    "\n",
    "print(\"Залогированы метрики:\", run_details.data.metrics)\n",
    "\n",
    "registered_models = mlflow.search_registered_models()\n",
    "\n",
    "model_found = any(model.name == REGISTRY_MODEL_NAME for model in registered_models)\n",
    "if model_found:\n",
    "    print(f\"Модель {REGISTRY_MODEL_NAME} была зарегистрирована.\")\n",
    "else:\n",
    "    print(f\"Модель {REGISTRY_MODEL_NAME} НЕ была зарегистрирована.\")\n"
   ]
  },
  {
   "cell_type": "code",
   "execution_count": 26,
   "metadata": {},
   "outputs": [
    {
     "name": "stderr",
     "output_type": "stream",
     "text": [
      "2024/09/14 08:46:41 INFO mlflow.tracking._tracking_service.client: 🏃 View run CBC at: http://127.0.0.1:5000/#/experiments/14/runs/b84e9205f8774ce5b86fc4c9dffdf629.\n",
      "2024/09/14 08:46:41 INFO mlflow.tracking._tracking_service.client: 🧪 View experiment at: http://127.0.0.1:5000/#/experiments/14.\n"
     ]
    },
    {
     "name": "stdout",
     "output_type": "stream",
     "text": [
      "Запуск эксперимента окончен.\n",
      "Активных запусков нет.\n"
     ]
    }
   ],
   "source": [
    "mlflow.end_run()\n",
    "print(\"Запуск эксперимента окончен.\")\n",
    "\n",
    "active_run = mlflow.active_run()\n",
    "if active_run:\n",
    "    print(f\"Активный запуск: {active_run.info.run_id}\")\n",
    "else:\n",
    "    print(\"Активных запусков нет.\")"
   ]
  },
  {
   "cell_type": "markdown",
   "metadata": {},
   "source": [
    "##### Итоги этапа моделирования\n",
    " - поднят сервер MLFlow\n",
    " - загружен тренировочный датасет и сохраненная модель\n",
    " - подобран объем тренировочных данных (данные за 8 месяцев), тестовых данных (за 2 месяца) и параметры модели (малое количество итераций = 100, веса классов = [1, 4])\n",
    " - проведена подготовка к встраиванию модели в сервис предсказаний\n",
    " - получены метрики модели и проведена их интерпретация:\n",
    "   - Precision\t0.3167\n",
    "   - Recall\t0.2371\n",
    "   - F1\t0.2712\n",
    "   - ROC AUC\t0.9581\n",
    " - проведене сравнение результатов предсказаний модели с константными предсказаниями\n",
    " - на протяжении всего этапа производилось логирование артефактов и метрик в текущем запуске эксперимента MLFlow\n",
    " - обученная модель залогирована, запуск эксперимента окончен\n",
    " - построенная структура позволяет проводить оптимизацию (кросс-валидацию) пайплайна обработки данных и подбора алгорима обучения и гиперпараметров с использованием инструментов sklearn или Optuna"
   ]
  }
 ],
 "metadata": {
  "kernelspec": {
   "display_name": "Python 3",
   "language": "python",
   "name": "python3"
  },
  "language_info": {
   "codemirror_mode": {
    "name": "ipython",
    "version": 3
   },
   "file_extension": ".py",
   "mimetype": "text/x-python",
   "name": "python",
   "nbconvert_exporter": "python",
   "pygments_lexer": "ipython3",
   "version": "3.10.12"
  }
 },
 "nbformat": 4,
 "nbformat_minor": 2
}
