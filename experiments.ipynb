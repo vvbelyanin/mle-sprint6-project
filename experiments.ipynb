{
 "cells": [
  {
   "cell_type": "markdown",
   "metadata": {},
   "source": [
    "#### Проект. Рекомендательные системы в банковской сфере. Моделирование\n",
    "\n",
    "Содержание  \n",
    " - Начало: импорт библиотек, настройка параметров, определения функций\n",
    " - Запуск MLFlow\n",
    " - Обучение модели\n",
    " - Подготовка функций для встраивания модели в сервис предсказаний\n",
    " - Получение и интерпретация метрик\n",
    " - Сравнение метрик модели с константными предсказаниями\n",
    " - Получение рекомендаций на основе вероятностей предсказаний\n",
    " - Итоги этапа моделирования"
   ]
  },
  {
   "cell_type": "markdown",
   "metadata": {},
   "source": [
    "##### Начало: импорт библиотек, настройка параметров, определения функций"
   ]
  },
  {
   "cell_type": "code",
   "execution_count": 1,
   "metadata": {},
   "outputs": [],
   "source": [
    "# Import essential libraries for data manipulation and I/O operations\n",
    "import pandas as pd\n",
    "import numpy as np\n",
    "import os\n",
    "import json\n",
    "import joblib\n",
    "import warnings\n",
    "import matplotlib.pyplot as plt\n",
    "import requests\n",
    "from typing import Optional, List, Dict\n",
    "#import subprocess\n",
    "from dotenv import load_dotenv\n",
    "#import psutil\n",
    "from datetime import datetime\n",
    "\n",
    "# Import CatBoost for machine learning tasks\n",
    "#from catboost import CatBoostClassifier\n",
    "\n",
    "# Import metrics from sklearn for evaluating model performance\n",
    "from sklearn.metrics import accuracy_score, precision_score, recall_score, f1_score, roc_auc_score\n",
    "from sklearn.metrics import roc_curve, auc\n",
    "\n",
    "# Import preprocessing and pipeline tools from sklearn\n",
    "#from sklearn.preprocessing import MinMaxScaler, OneHotEncoder, FunctionTransformer\n",
    "#from sklearn.compose import ColumnTransformer\n",
    "#from sklearn.base import BaseEstimator, TransformerMixin\n",
    "#from sklearn.multioutput import MultiOutputClassifier\n",
    "#from sklearn.pipeline import Pipeline\n",
    "\n",
    "# MLflow for model tracking\n",
    "import mlflow\n",
    "\n",
    "# Custom utility imports for data processing\n",
    "from utils.config import (\n",
    "    new_columns, attrs, RANDOM_STATE,\n",
    "    DATA_DIR, MODEL_DIR, TRAIN_PARQUET, TEST_PARQUET,\n",
    "    START_TRAIN_DATE,\n",
    "    MODEL_PKL, FITTED_MODEL, MODEL_PARAMS,\n",
    "    TRACKING_SERVER_CONN, path,\n",
    "    date_columns, LUCKY_USER, SAMPLE_JSON\n",
    ")\n",
    "from utils.preprocess import process_na\n",
    "\n",
    "from utils.preprocess import DataFrameProcessor, frequency_encoding, process_na\n",
    "\n",
    "# Load environment variables from .env file\n",
    "load_dotenv()\n",
    "\n",
    "# Set global options for precision in numpy and pandas formatting\n",
    "np.set_printoptions(precision=4, suppress=True)\n",
    "pd.options.display.float_format = '{:.4f}'.format\n",
    "\n",
    "# Optionally, suppress runtime warnings (uncomment if needed)\n",
    "warnings.filterwarnings(\"ignore\", category=RuntimeWarning)"
   ]
  },
  {
   "cell_type": "code",
   "execution_count": 2,
   "metadata": {},
   "outputs": [],
   "source": [
    "def calculate_roc_auc(y_true: np.ndarray, y_pred_proba: np.ndarray) -> dict:\n",
    "    \"\"\"\n",
    "    Calculate ROC AUC scores (micro, macro, and average) for multi-output classification.\n",
    "\n",
    "    Parameters:\n",
    "    y_true (np.ndarray): True labels.\n",
    "    y_pred_proba (np.ndarray): Predicted probabilities.\n",
    "\n",
    "    Returns:\n",
    "    dict: ROC AUC scores.\n",
    "    \"\"\"\n",
    "    if isinstance(y_pred_proba, list):\n",
    "        y_pred_proba = np.array(y_pred_proba)\n",
    "\n",
    "    if len(y_pred_proba.shape) == 3:\n",
    "        y_pred_proba_class_1 = y_pred_proba[:, :, 1].T\n",
    "    else:\n",
    "        y_pred_proba_class_1 = y_pred_proba\n",
    "\n",
    "    if isinstance(y_true, pd.DataFrame):\n",
    "        y_true = y_true.values\n",
    "\n",
    "    # Filter columns with more than one unique value\n",
    "    valid_columns = [col for col in range(y_true.shape[1]) if len(np.unique(y_true[:, col])) > 1]\n",
    "\n",
    "    return {\n",
    "        'micro': roc_auc_score(y_true[:, valid_columns], y_pred_proba_class_1[:, valid_columns], average='micro'),\n",
    "        'macro': roc_auc_score(y_true[:, valid_columns], y_pred_proba_class_1[:, valid_columns], average='macro'),\n",
    "        'average': roc_auc_score(y_true[:, valid_columns], y_pred_proba_class_1[:, valid_columns], average='weighted')\n",
    "    }\n",
    "\n",
    "\n",
    "def calculate_metrics(y_true: np.ndarray, y_pred: np.ndarray, y_pred_proba: np.ndarray, zero_division: int = 0) -> pd.DataFrame:\n",
    "    \"\"\"\n",
    "    Calculate various classification metrics such as Accuracy, Precision, Recall, F1, and ROC AUC.\n",
    "\n",
    "    Parameters:\n",
    "    y_true (np.ndarray): True labels.\n",
    "    y_pred (np.ndarray): Predicted labels.\n",
    "    y_pred_proba (np.ndarray): Predicted probabilities.\n",
    "    zero_division (int): Determines the behavior when division by zero occurs (default is 0).\n",
    "\n",
    "    Returns:\n",
    "    pd.DataFrame: DataFrame with calculated metrics for micro, macro, and average scores.\n",
    "    \"\"\"\n",
    "    metrics = {\n",
    "        'Accuracy': {\n",
    "            'micro': -1,\n",
    "            'macro': -1,\n",
    "            'average': accuracy_score(y_true, y_pred)\n",
    "        },\n",
    "        'Precision': {\n",
    "            'micro': precision_score(y_true, y_pred, average='micro', zero_division=zero_division),\n",
    "            'macro': precision_score(y_true, y_pred, average='macro', zero_division=zero_division),\n",
    "            'average': precision_score(y_true, y_pred, average='weighted', zero_division=zero_division)\n",
    "        },\n",
    "        'Recall': {\n",
    "            'micro': recall_score(y_true, y_pred, average='micro', zero_division=zero_division),\n",
    "            'macro': recall_score(y_true, y_pred, average='macro', zero_division=zero_division),\n",
    "            'average': recall_score(y_true, y_pred, average='weighted', zero_division=zero_division)\n",
    "        },\n",
    "        'F1': {\n",
    "            'micro': f1_score(y_true, y_pred, average='micro', zero_division=zero_division),\n",
    "            'macro': f1_score(y_true, y_pred, average='macro', zero_division=zero_division),\n",
    "            'average': f1_score(y_true, y_pred, average='weighted', zero_division=zero_division)\n",
    "        },\n",
    "        'ROC AUC': calculate_roc_auc(y_true, y_pred_proba)\n",
    "    }\n",
    "\n",
    "    return pd.DataFrame(metrics).T\n",
    "\n",
    "\n",
    "def plot_roc_curve(y_true: np.ndarray, y_pred_proba: np.ndarray, label_name: str) -> None:\n",
    "    \"\"\"\n",
    "    Plot the ROC curve for binary classification.\n",
    "\n",
    "    Parameters:\n",
    "    y_true (np.ndarray): True labels.\n",
    "    y_pred_proba (np.ndarray): Predicted probabilities.\n",
    "    label_name (str): Label for the ROC curve.\n",
    "    \"\"\"\n",
    "    if isinstance(y_true, pd.DataFrame):\n",
    "        y_true = y_true.values\n",
    "    \n",
    "    fpr, tpr, _ = roc_curve(y_true.ravel(), y_pred_proba.ravel())\n",
    "    roc_auc = auc(fpr, tpr)\n",
    "\n",
    "    # Plot the ROC curve\n",
    "    plt.plot(fpr, tpr, label=f'{label_name} (AUC = {roc_auc:.4f})')"
   ]
  },
  {
   "cell_type": "markdown",
   "metadata": {},
   "source": [
    "##### Запуск эксперимента в MLFlow"
   ]
  },
  {
   "cell_type": "code",
   "execution_count": 3,
   "metadata": {},
   "outputs": [],
   "source": [
    "EXPERIMENT_NAME = 'Спринт 6: Проект'\n",
    "RUN_NAME = \"CBC\"\n",
    "REGISTRY_MODEL_NAME = 'model_sprint_6_2'"
   ]
  },
  {
   "cell_type": "code",
   "execution_count": 4,
   "metadata": {},
   "outputs": [
    {
     "name": "stdout",
     "output_type": "stream",
     "text": [
      "MLFlow сервер запущен.\n"
     ]
    }
   ],
   "source": [
    "# Сервер MLFlow должен быть запущен (см. Instructions.md):\n",
    "#  - скриптом sh run_mlflow.sh, или\n",
    "#  - в составе общего контейнера docker compose up --build\n",
    "\n",
    "def check_mlflow_server(url):\n",
    "    try:\n",
    "        response = requests.get(url)\n",
    "        if response.status_code == 200:\n",
    "            print(\"MLFlow сервер запущен.\")\n",
    "            return True\n",
    "        else:\n",
    "            print(\"MLFlow сервер вернул статус:\", response.status_code)\n",
    "            return False\n",
    "    except requests.exceptions.ConnectionError:\n",
    "        raise Exception(\"Не удалось связаться с MLFlow server.\") \n",
    "\n",
    "\n",
    "if check_mlflow_server(TRACKING_SERVER_CONN):\n",
    "    mlflow.set_tracking_uri(TRACKING_SERVER_CONN)\n",
    "    mlflow.set_registry_uri(TRACKING_SERVER_CONN)"
   ]
  },
  {
   "cell_type": "code",
   "execution_count": 5,
   "metadata": {},
   "outputs": [
    {
     "name": "stdout",
     "output_type": "stream",
     "text": [
      "Найдено активных запусков: 1:\n",
      "- Run ID: 73e31b7536e749eb852df2f5146dd43d, запущен: 2024-09-23 15:02:29.235000+00:00\n"
     ]
    }
   ],
   "source": [
    "# Query all runs from the experiment (use experiment_id or experiment_name)\n",
    "runs = mlflow.search_runs(experiment_names=[ 'Спринт 6: Проект'])\n",
    "\n",
    "# Filter for active (RUNNING) runs\n",
    "active_runs = runs[runs['status'] == 'RUNNING']\n",
    "\n",
    "if not active_runs.empty:\n",
    "    print(f\"Найдено активных запусков: {len(active_runs)}:\")\n",
    "    for idx, row in active_runs.iterrows():\n",
    "        print(f\"- Run ID: {row['run_id']}, запущен: {row['start_time']}\")\n",
    "else:\n",
    "    print(\"Активных запусков нет.\")"
   ]
  },
  {
   "cell_type": "code",
   "execution_count": 6,
   "metadata": {},
   "outputs": [
    {
     "name": "stdout",
     "output_type": "stream",
     "text": [
      "Запуск нового эксперимента с ID: 34f5ed19e6554389a7bc21b5615db23e\n"
     ]
    }
   ],
   "source": [
    "experiment = mlflow.get_experiment_by_name(EXPERIMENT_NAME)\n",
    "if experiment is None:\n",
    "    experiment_id = mlflow.create_experiment(EXPERIMENT_NAME)\n",
    "else:\n",
    "    experiment_id = experiment.experiment_id\n",
    "\n",
    "run = mlflow.start_run(run_name=RUN_NAME, experiment_id=experiment_id)\n",
    "print(f\"Запуск нового эксперимента с ID: {run.info.run_id}\")\n"
   ]
  },
  {
   "cell_type": "markdown",
   "metadata": {},
   "source": [
    "##### Обучение модели"
   ]
  },
  {
   "cell_type": "markdown",
   "metadata": {},
   "source": [
    "Параметры модели, которую мы построили на предыдущем этапе:  \n",
    "CatBoostClassifier(iterations=100, verbose=0, class_weights = [1, 4])\n",
    "\n",
    "Среди задач проекта нет глубокой оптимизации модели.  \n",
    "Поэтому получим результат с некоторыми упрощениями:  \n",
    " - оставим небольшок количество итераций (100). Исходя из структуры данных, увеличение количества итераций до 500-1000 улучшит результат, но обучение на двух десятках таргетов займет много времени\n",
    " - нужно обязательно \"утяжелить\" миноритарный класс, подбор соотношения - задача дальнейшей оптимизации модели\n",
    " - остальные параметры оставим по умолчанию, хотя может быть необходимость настроить параметры деревьев, learning rate и т.д.\n",
    " - также усечем тренировочные данные с 14 до 8 месяцев. Так мы сократим время обучения, а также сконцентрируемся на более \"свежих\" данных.\n"
   ]
  },
  {
   "cell_type": "markdown",
   "metadata": {},
   "source": [
    "Параметры модели, которую мы построили на предыдущем этапе:  \n",
    "CatBoostClassifier(iterations=100, verbose=0, class_weights = [1, 4])\n",
    "\n",
    "Среди задач проекта нет глубокой оптимизации модели.  \n",
    "Поэтому получим результат с некоторыми упрощениями:  \n",
    " - оставим небольшок количество итераций (100). Исходя из структуры данных, увеличение количества итераций до 500-1000 улучшит результат, но обучение на двух десятках таргетов займет много времени\n",
    " - нужно обязательно \"утяжелить\" миноритарный класс, подбор соотношения - задача дальнейшей оптимизации модели\n",
    " - остальные параметры оставим по умолчанию, хотя может быть необходимость настроить параметры деревьев, learning rate и т.д.\n",
    " - также усечем тренировочные данные с 14 до 8 месяцев. Так мы сократим время обучения, а также сконцентрируемся на более \"свежих\" данных.\n"
   ]
  },
  {
   "cell_type": "code",
   "execution_count": 7,
   "metadata": {},
   "outputs": [
    {
     "name": "stdout",
     "output_type": "stream",
     "text": [
      "CPU times: user 6.88 s, sys: 2.96 s, total: 9.84 s\n",
      "Wall time: 6.53 s\n"
     ]
    }
   ],
   "source": [
    "%%time\n",
    "# ~ 16 min\n",
    "\n",
    "df_train = pd.read_parquet(path(DATA_DIR, TRAIN_PARQUET))\n",
    "\n",
    "df_train = process_na(df_train)\n",
    "df_train = df_train[df_train.fetch_date >= START_TRAIN_DATE]\n",
    "\n",
    "df_test = pd.read_parquet(path(DATA_DIR, TEST_PARQUET))\n",
    "df_test = process_na(df_test)\n",
    "\n",
    "targets = df_train.attrs['target__']\n",
    "        \n",
    "X_train, y_train = df_train.drop(columns=targets), df_train[targets]\n",
    "X_test, y_test = df_test.drop(columns=targets), df_test[targets]\n",
    "\n",
    "target_cols = [col for col in y_train.columns if y_train[col].nunique() > 1]\n",
    "\n",
    "#model = joblib.load(MODEL_DIR + MODEL_PKL)\n",
    "#model.fit(X_train, y_train[target_cols])\n",
    "\n",
    "model = joblib.load(path(MODEL_DIR, FITTED_MODEL))"
   ]
  },
  {
   "cell_type": "markdown",
   "metadata": {},
   "source": [
    "Можно вывести важности признаков, но эти данные потребуют дополнительного анализа по всем таргетам."
   ]
  },
  {
   "cell_type": "code",
   "execution_count": 8,
   "metadata": {},
   "outputs": [
    {
     "data": {
      "text/html": [
       "<div>\n",
       "<style scoped>\n",
       "    .dataframe tbody tr th:only-of-type {\n",
       "        vertical-align: middle;\n",
       "    }\n",
       "\n",
       "    .dataframe tbody tr th {\n",
       "        vertical-align: top;\n",
       "    }\n",
       "\n",
       "    .dataframe thead th {\n",
       "        text-align: right;\n",
       "    }\n",
       "</style>\n",
       "<table border=\"1\" class=\"dataframe\">\n",
       "  <thead>\n",
       "    <tr style=\"text-align: right;\">\n",
       "      <th></th>\n",
       "      <th>0</th>\n",
       "    </tr>\n",
       "  </thead>\n",
       "  <tbody>\n",
       "    <tr>\n",
       "      <th>ind_1m_debit_account</th>\n",
       "      <td>29.3706</td>\n",
       "    </tr>\n",
       "    <tr>\n",
       "      <th>id</th>\n",
       "      <td>22.0571</td>\n",
       "    </tr>\n",
       "    <tr>\n",
       "      <th>gender</th>\n",
       "      <td>15.8331</td>\n",
       "    </tr>\n",
       "    <tr>\n",
       "      <th>ind_employee</th>\n",
       "      <td>9.4745</td>\n",
       "    </tr>\n",
       "    <tr>\n",
       "      <th>province_name</th>\n",
       "      <td>8.7455</td>\n",
       "    </tr>\n",
       "    <tr>\n",
       "      <th>ind_1m_mature_acc_3</th>\n",
       "      <td>4.3840</td>\n",
       "    </tr>\n",
       "    <tr>\n",
       "      <th>age</th>\n",
       "      <td>3.6221</td>\n",
       "    </tr>\n",
       "    <tr>\n",
       "      <th>ind_1m_tax_account</th>\n",
       "      <td>2.5134</td>\n",
       "    </tr>\n",
       "    <tr>\n",
       "      <th>entry_channel</th>\n",
       "      <td>1.4744</td>\n",
       "    </tr>\n",
       "  </tbody>\n",
       "</table>\n",
       "</div>"
      ],
      "text/plain": [
       "                           0\n",
       "ind_1m_debit_account 29.3706\n",
       "id                   22.0571\n",
       "gender               15.8331\n",
       "ind_employee          9.4745\n",
       "province_name         8.7455\n",
       "ind_1m_mature_acc_3   4.3840\n",
       "age                   3.6221\n",
       "ind_1m_tax_account    2.5134\n",
       "entry_channel         1.4744"
      ]
     },
     "execution_count": 8,
     "metadata": {},
     "output_type": "execute_result"
    }
   ],
   "source": [
    "df_importance = pd.DataFrame([model.steps[2][1].estimators_[0].get_feature_importance()], columns=X_train.columns).T.sort_values(by=0, ascending=False)\n",
    "df_importance[df_importance[0] > 1]"
   ]
  },
  {
   "cell_type": "markdown",
   "metadata": {},
   "source": [
    "(Для первого таргета пол находится на 3-м месте, хотя общей зависимости таргетов от этой переменной не было.)\n",
    "  \n",
    "Получим данные для метрик."
   ]
  },
  {
   "cell_type": "code",
   "execution_count": 9,
   "metadata": {},
   "outputs": [
    {
     "name": "stdout",
     "output_type": "stream",
     "text": [
      "CPU times: user 3min 20s, sys: 618 ms, total: 3min 21s\n",
      "Wall time: 3min 10s\n"
     ]
    }
   ],
   "source": [
    "%%time\n",
    "# ~ 3 min\n",
    "\n",
    "joblib.dump(model, path(MODEL_DIR, FITTED_MODEL))\n",
    "\n",
    "y_pred = model.predict(X_test)\n",
    "y_pred_proba = model.predict_proba(X_test)\n",
    "\n",
    "y_true = y_test[target_cols]"
   ]
  },
  {
   "cell_type": "markdown",
   "metadata": {},
   "source": [
    "##### Подготовка функций для встраивания модели в сервис предсказаний"
   ]
  },
  {
   "cell_type": "markdown",
   "metadata": {},
   "source": [
    "Для мониторинга предсказаний нам потребуются имена таргетов на русском (для FastAPI) и на английском (Graphite принимает только ASCII названия).  \n",
    "Для обработки часто встречающихся пропусков в 'income' сохраним среднее значение как параметр."
   ]
  },
  {
   "cell_type": "code",
   "execution_count": 14,
   "metadata": {},
   "outputs": [
    {
     "data": {
      "text/plain": [
       "{'fetch_date': {'rus': 'Колонка для разделения таблицы',\n",
       "  'eng': '',\n",
       "  'esp': 'fecha_dato',\n",
       "  'values': {}},\n",
       " 'id': {'rus': 'Идентификатор пользователя',\n",
       "  'eng': '',\n",
       "  'esp': 'ncodpers',\n",
       "  'values': {}},\n",
       " 'ind_employee': {'rus': 'Статус занятости',\n",
       "  'eng': '',\n",
       "  'esp': 'ind_empleado',\n",
       "  'values': {'A': 'трудоустроен',\n",
       "   'B': 'безработный, раньше работал',\n",
       "   'F': 'иждивенец',\n",
       "   'N': 'безработный',\n",
       "   'P': 'пассивный (статус не определён)'}},\n",
       " 'country_of_residence': {'rus': 'Страна резидентства',\n",
       "  'eng': '',\n",
       "  'esp': 'pais_residencia',\n",
       "  'values': {}},\n",
       " 'gender': {'rus': 'Пол', 'eng': '', 'esp': 'sexo', 'values': {}},\n",
       " 'age': {'rus': 'Возраст', 'eng': '', 'esp': 'age', 'values': {}},\n",
       " 'registration_date': {'rus': 'Дата, когда клиент впервые заключил договор в банке',\n",
       "  'eng': '',\n",
       "  'esp': 'fecha_alta',\n",
       "  'values': {}},\n",
       " 'ind_new_client': {'rus': 'Признак нового клиента',\n",
       "  'eng': '',\n",
       "  'esp': 'ind_nuevo',\n",
       "  'values': {'1': 'если клиент зарегистрировался за последние 6 месяцев'}},\n",
       " 'tenure_months': {'rus': 'Стаж клиента (в месяцах)',\n",
       "  'eng': '',\n",
       "  'esp': 'antiguedad',\n",
       "  'values': {}},\n",
       " 'client_relationship_status': {'rus': 'Признак первичного клиента',\n",
       "  'eng': '',\n",
       "  'esp': 'indrel',\n",
       "  'values': {'1': 'первичный клиент',\n",
       "   '99': 'первичный клиент в течении месяца, но не в конце'}},\n",
       " 'last_date_as_primary': {'rus': 'Последняя дата, когда клиент был премиальным',\n",
       "  'eng': '',\n",
       "  'esp': 'ult_fec_cli_1t',\n",
       "  'values': {}},\n",
       " 'client_type_1m': {'rus': 'Тип клиента в начале месяца',\n",
       "  'eng': '',\n",
       "  'esp': 'indrel_1mes',\n",
       "  'values': {'1': 'премиальный',\n",
       "   '2': 'собственник',\n",
       "   'P': 'потенциальный',\n",
       "   '3': 'раньше был премиальным',\n",
       "   '4': 'раньше был собственником'}},\n",
       " 'client_activity_1m': {'rus': 'Тип клиента в начале месяца',\n",
       "  'eng': '',\n",
       "  'esp': 'tiprel_1mes',\n",
       "  'values': {'A': 'активный',\n",
       "   'I': 'неактивный',\n",
       "   'P': 'бывший',\n",
       "   'R': 'потенциальный'}},\n",
       " 'ind_resident': {'rus': 'Если страна проживания совпадает со страной банка',\n",
       "  'eng': '',\n",
       "  'esp': 'indresi',\n",
       "  'values': {}},\n",
       " 'ind_foreigner': {'rus': 'Если страна рождения клиента отличается от страны банка',\n",
       "  'eng': '',\n",
       "  'esp': 'indext',\n",
       "  'values': {}},\n",
       " 'ind_spouse_employee': {'rus': 'Признак супруга работника',\n",
       "  'eng': '',\n",
       "  'esp': 'conyuemp',\n",
       "  'values': {'1': 'если клиент супруг(а) работника'}},\n",
       " 'entry_channel': {'rus': 'Канал, по которому пришел пользователь',\n",
       "  'eng': '',\n",
       "  'esp': 'canal_entrada',\n",
       "  'values': {}},\n",
       " 'ind_deceased': {'rus': 'Индекс актуальности счёта (англ. Deceased index, N/S)',\n",
       "  'eng': '',\n",
       "  'esp': 'indfall',\n",
       "  'values': {}},\n",
       " 'address_type': {'rus': 'Тип адреса',\n",
       "  'eng': '',\n",
       "  'esp': 'tipodom',\n",
       "  'values': {'1': 'основной адрес'}},\n",
       " 'province_code': {'rus': 'Код провинции (адреса клиента)',\n",
       "  'eng': '',\n",
       "  'esp': 'cod_prov',\n",
       "  'values': {}},\n",
       " 'province_name': {'rus': 'Имя провинции',\n",
       "  'eng': '',\n",
       "  'esp': 'nomprov',\n",
       "  'values': {}},\n",
       " 'ind_client_activity': {'rus': 'Активность пользователя',\n",
       "  'eng': '',\n",
       "  'esp': 'ind_actividad_cliente',\n",
       "  'values': {'1': 'активный', '0': 'неактивный'}},\n",
       " 'income': {'rus': 'Доход домохозяйства',\n",
       "  'eng': '',\n",
       "  'esp': 'renta',\n",
       "  'values': {}},\n",
       " 'client_segment': {'rus': 'Сегментация',\n",
       "  'eng': '',\n",
       "  'esp': 'segmento',\n",
       "  'values': {'1': 'VIP', '2': 'Обыкновенные', '3': 'Выпускники колледжей'}},\n",
       " 'ind_1m_savings_acc': {'rus': 'Сберегательный счёт',\n",
       "  'eng': 'Savings Account',\n",
       "  'esp': 'ind_ahor_fin_ult1',\n",
       "  'values': {}},\n",
       " 'ind_1m_guarantee': {'rus': 'Банковская гарантия',\n",
       "  'eng': 'Bank Guarantee',\n",
       "  'esp': 'ind_aval_fin_ult1',\n",
       "  'values': {}},\n",
       " 'ind_1m_checking_acc': {'rus': 'Текущие счета',\n",
       "  'eng': 'Checking Account',\n",
       "  'esp': 'ind_cco_fin_ult1',\n",
       "  'values': {}},\n",
       " 'ind_1m_derivatives': {'rus': 'Деривативный счёт',\n",
       "  'eng': 'Derivatives Account',\n",
       "  'esp': 'ind_cder_fin_ult1',\n",
       "  'values': {}},\n",
       " 'ind_1m_payroll_acc': {'rus': 'Зарплатный проект',\n",
       "  'eng': 'Payroll Account',\n",
       "  'esp': 'ind_cno_fin_ult1',\n",
       "  'values': {}},\n",
       " 'ind_1m_junior_acc': {'rus': 'Детский счёт',\n",
       "  'eng': 'Junior Account',\n",
       "  'esp': 'ind_ctju_fin_ult1',\n",
       "  'values': {}},\n",
       " 'ind_1m_mature_acc_3': {'rus': 'Особый счёт 3',\n",
       "  'eng': 'Special Account 3',\n",
       "  'esp': 'ind_ctma_fin_ult1',\n",
       "  'values': {}},\n",
       " 'ind_1m_operations_acc': {'rus': 'Особый счёт',\n",
       "  'eng': 'Operations Account',\n",
       "  'esp': 'ind_ctop_fin_ult1',\n",
       "  'values': {}},\n",
       " 'ind_1m_pension_acc_2': {'rus': 'Особый счёт 2',\n",
       "  'eng': 'Special Account 2',\n",
       "  'esp': 'ind_ctpp_fin_ult1',\n",
       "  'values': {}},\n",
       " 'ind_1m_short_term_deposit': {'rus': 'Краткосрочный депозит',\n",
       "  'eng': 'Short-Term Deposit',\n",
       "  'esp': 'ind_deco_fin_ult1',\n",
       "  'values': {}},\n",
       " 'ind_1m_medium_term_deposit': {'rus': 'Среднесрочный депозит',\n",
       "  'eng': 'Medium-Term Deposit',\n",
       "  'esp': 'ind_deme_fin_ult1',\n",
       "  'values': {}},\n",
       " 'ind_1m_long_term_deposit': {'rus': 'Долгосрочный депозит',\n",
       "  'eng': 'Long-Term Deposit',\n",
       "  'esp': 'ind_dela_fin_ult1',\n",
       "  'values': {}},\n",
       " 'ind_1m_digital_account': {'rus': 'Цифровой счёт',\n",
       "  'eng': 'Digital Account',\n",
       "  'esp': 'ind_ecue_fin_ult1',\n",
       "  'values': {}},\n",
       " 'ind_1m_cash_funds': {'rus': 'Денежный средства',\n",
       "  'eng': 'Cash Funds',\n",
       "  'esp': 'ind_fond_fin_ult1',\n",
       "  'values': {}},\n",
       " 'ind_1m_mortgage': {'rus': 'Ипотека',\n",
       "  'eng': 'Mortgage',\n",
       "  'esp': 'ind_hip_fin_ult1',\n",
       "  'values': {}},\n",
       " 'ind_1m_pension_plan': {'rus': 'Пенсионный план',\n",
       "  'eng': 'Pension Plan',\n",
       "  'esp': 'ind_plan_fin_ult1',\n",
       "  'values': {}},\n",
       " 'ind_1m_loans': {'rus': 'Кредит',\n",
       "  'eng': 'Loans',\n",
       "  'esp': 'ind_pres_fin_ult1',\n",
       "  'values': {}},\n",
       " 'ind_1m_tax_account': {'rus': 'Налоговый счёт',\n",
       "  'eng': 'Tax Account',\n",
       "  'esp': 'ind_reca_fin_ult1',\n",
       "  'values': {}},\n",
       " 'ind_1m_credit_card': {'rus': 'Кредитная карта',\n",
       "  'eng': 'Credit Card',\n",
       "  'esp': 'ind_tjcr_fin_ult1',\n",
       "  'values': {}},\n",
       " 'ind_1m_securities': {'rus': 'Ценные бумаги',\n",
       "  'eng': 'Securities',\n",
       "  'esp': 'ind_valo_fin_ult1',\n",
       "  'values': {}},\n",
       " 'ind_1m_home_acc': {'rus': 'Домашний счёт',\n",
       "  'eng': 'Home Account',\n",
       "  'esp': 'ind_viv_fin_ult1',\n",
       "  'values': {}},\n",
       " 'ind_1m_salary_acc': {'rus': 'Аккаунт для выплаты зарплаты',\n",
       "  'eng': 'Salary Account',\n",
       "  'esp': 'ind_nomina_ult1',\n",
       "  'values': {}},\n",
       " 'ind_1m_pension_obligation_account': {'rus': 'Аккаунт для пенсионных обязательств',\n",
       "  'eng': 'Pension Obligation Account',\n",
       "  'esp': 'ind_nom_pens_ult1',\n",
       "  'values': {}},\n",
       " 'ind_1m_debit_account': {'rus': 'Дебетовый аккаунт',\n",
       "  'eng': 'Debit Account',\n",
       "  'esp': 'ind_recibo_ult1',\n",
       "  'values': {}},\n",
       " 'target__': ['target__ind_1m_savings_acc',\n",
       "  'target__ind_1m_guarantee',\n",
       "  'target__ind_1m_checking_acc',\n",
       "  'target__ind_1m_derivatives',\n",
       "  'target__ind_1m_payroll_acc',\n",
       "  'target__ind_1m_junior_acc',\n",
       "  'target__ind_1m_mature_acc_3',\n",
       "  'target__ind_1m_operations_acc',\n",
       "  'target__ind_1m_pension_acc_2',\n",
       "  'target__ind_1m_short_term_deposit',\n",
       "  'target__ind_1m_medium_term_deposit',\n",
       "  'target__ind_1m_long_term_deposit',\n",
       "  'target__ind_1m_digital_account',\n",
       "  'target__ind_1m_cash_funds',\n",
       "  'target__ind_1m_mortgage',\n",
       "  'target__ind_1m_pension_plan',\n",
       "  'target__ind_1m_loans',\n",
       "  'target__ind_1m_tax_account',\n",
       "  'target__ind_1m_credit_card',\n",
       "  'target__ind_1m_securities',\n",
       "  'target__ind_1m_home_acc',\n",
       "  'target__ind_1m_salary_acc',\n",
       "  'target__ind_1m_pension_obligation_account',\n",
       "  'target__ind_1m_debit_account']}"
      ]
     },
     "execution_count": 14,
     "metadata": {},
     "output_type": "execute_result"
    }
   ],
   "source": [
    "X_train.attrs"
   ]
  },
  {
   "cell_type": "code",
   "execution_count": 13,
   "metadata": {},
   "outputs": [
    {
     "data": {
      "text/plain": [
       "['target__ind_1m_guarantee',\n",
       " 'target__ind_1m_checking_acc',\n",
       " 'target__ind_1m_derivatives',\n",
       " 'target__ind_1m_payroll_acc',\n",
       " 'target__ind_1m_junior_acc',\n",
       " 'target__ind_1m_mature_acc_3',\n",
       " 'target__ind_1m_operations_acc',\n",
       " 'target__ind_1m_pension_acc_2',\n",
       " 'target__ind_1m_short_term_deposit',\n",
       " 'target__ind_1m_medium_term_deposit',\n",
       " 'target__ind_1m_long_term_deposit',\n",
       " 'target__ind_1m_digital_account',\n",
       " 'target__ind_1m_cash_funds',\n",
       " 'target__ind_1m_mortgage',\n",
       " 'target__ind_1m_pension_plan',\n",
       " 'target__ind_1m_loans',\n",
       " 'target__ind_1m_tax_account',\n",
       " 'target__ind_1m_credit_card',\n",
       " 'target__ind_1m_securities',\n",
       " 'target__ind_1m_home_acc',\n",
       " 'target__ind_1m_salary_acc',\n",
       " 'target__ind_1m_pension_obligation_account',\n",
       " 'target__ind_1m_debit_account']"
      ]
     },
     "execution_count": 13,
     "metadata": {},
     "output_type": "execute_result"
    }
   ],
   "source": [
    "target_cols"
   ]
  },
  {
   "cell_type": "code",
   "execution_count": 12,
   "metadata": {},
   "outputs": [
    {
     "ename": "KeyError",
     "evalue": "0",
     "output_type": "error",
     "traceback": [
      "\u001b[0;31m---------------------------------------------------------------------------\u001b[0m",
      "\u001b[0;31mKeyError\u001b[0m                                  Traceback (most recent call last)",
      "Cell \u001b[0;32mIn[12], line 1\u001b[0m\n\u001b[0;32m----> 1\u001b[0m [X_train\u001b[38;5;241m.\u001b[39mattrs[x[\u001b[38;5;28mlen\u001b[39m(\u001b[38;5;124m'\u001b[39m\u001b[38;5;124mtarget__\u001b[39m\u001b[38;5;124m'\u001b[39m):]][\u001b[38;5;241m0\u001b[39m] \u001b[38;5;28;01mfor\u001b[39;00m x \u001b[38;5;129;01min\u001b[39;00m target_cols]\n",
      "Cell \u001b[0;32mIn[12], line 1\u001b[0m, in \u001b[0;36m<listcomp>\u001b[0;34m(.0)\u001b[0m\n\u001b[0;32m----> 1\u001b[0m [\u001b[43mX_train\u001b[49m\u001b[38;5;241;43m.\u001b[39;49m\u001b[43mattrs\u001b[49m\u001b[43m[\u001b[49m\u001b[43mx\u001b[49m\u001b[43m[\u001b[49m\u001b[38;5;28;43mlen\u001b[39;49m\u001b[43m(\u001b[49m\u001b[38;5;124;43m'\u001b[39;49m\u001b[38;5;124;43mtarget__\u001b[39;49m\u001b[38;5;124;43m'\u001b[39;49m\u001b[43m)\u001b[49m\u001b[43m:\u001b[49m\u001b[43m]\u001b[49m\u001b[43m]\u001b[49m\u001b[43m[\u001b[49m\u001b[38;5;241;43m0\u001b[39;49m\u001b[43m]\u001b[49m \u001b[38;5;28;01mfor\u001b[39;00m x \u001b[38;5;129;01min\u001b[39;00m target_cols]\n",
      "\u001b[0;31mKeyError\u001b[0m: 0"
     ]
    }
   ],
   "source": [
    " [X_train.attrs[x[len('target__'):]][0] for x in target_cols]"
   ]
  },
  {
   "cell_type": "code",
   "execution_count": 10,
   "metadata": {},
   "outputs": [
    {
     "ename": "KeyError",
     "evalue": "0",
     "output_type": "error",
     "traceback": [
      "\u001b[0;31m---------------------------------------------------------------------------\u001b[0m",
      "\u001b[0;31mKeyError\u001b[0m                                  Traceback (most recent call last)",
      "Cell \u001b[0;32mIn[10], line 1\u001b[0m\n\u001b[0;32m----> 1\u001b[0m target_names \u001b[38;5;241m=\u001b[39m [X_train\u001b[38;5;241m.\u001b[39mattrs[x[\u001b[38;5;28mlen\u001b[39m(\u001b[38;5;124m'\u001b[39m\u001b[38;5;124mtarget__\u001b[39m\u001b[38;5;124m'\u001b[39m):]][\u001b[38;5;241m0\u001b[39m] \u001b[38;5;28;01mfor\u001b[39;00m x \u001b[38;5;129;01min\u001b[39;00m target_cols]\n\u001b[1;32m      2\u001b[0m target_names_eng \u001b[38;5;241m=\u001b[39m [X_train\u001b[38;5;241m.\u001b[39mattrs[x[\u001b[38;5;28mlen\u001b[39m(\u001b[38;5;124m'\u001b[39m\u001b[38;5;124mtarget__\u001b[39m\u001b[38;5;124m'\u001b[39m):]][\u001b[38;5;241m1\u001b[39m] \u001b[38;5;28;01mfor\u001b[39;00m x \u001b[38;5;129;01min\u001b[39;00m target_cols]\n\u001b[1;32m      3\u001b[0m income_mean \u001b[38;5;241m=\u001b[39m X_train[\u001b[38;5;124m'\u001b[39m\u001b[38;5;124mincome\u001b[39m\u001b[38;5;124m'\u001b[39m]\u001b[38;5;241m.\u001b[39mmean()\n",
      "Cell \u001b[0;32mIn[10], line 1\u001b[0m, in \u001b[0;36m<listcomp>\u001b[0;34m(.0)\u001b[0m\n\u001b[0;32m----> 1\u001b[0m target_names \u001b[38;5;241m=\u001b[39m [\u001b[43mX_train\u001b[49m\u001b[38;5;241;43m.\u001b[39;49m\u001b[43mattrs\u001b[49m\u001b[43m[\u001b[49m\u001b[43mx\u001b[49m\u001b[43m[\u001b[49m\u001b[38;5;28;43mlen\u001b[39;49m\u001b[43m(\u001b[49m\u001b[38;5;124;43m'\u001b[39;49m\u001b[38;5;124;43mtarget__\u001b[39;49m\u001b[38;5;124;43m'\u001b[39;49m\u001b[43m)\u001b[49m\u001b[43m:\u001b[49m\u001b[43m]\u001b[49m\u001b[43m]\u001b[49m\u001b[43m[\u001b[49m\u001b[38;5;241;43m0\u001b[39;49m\u001b[43m]\u001b[49m \u001b[38;5;28;01mfor\u001b[39;00m x \u001b[38;5;129;01min\u001b[39;00m target_cols]\n\u001b[1;32m      2\u001b[0m target_names_eng \u001b[38;5;241m=\u001b[39m [X_train\u001b[38;5;241m.\u001b[39mattrs[x[\u001b[38;5;28mlen\u001b[39m(\u001b[38;5;124m'\u001b[39m\u001b[38;5;124mtarget__\u001b[39m\u001b[38;5;124m'\u001b[39m):]][\u001b[38;5;241m1\u001b[39m] \u001b[38;5;28;01mfor\u001b[39;00m x \u001b[38;5;129;01min\u001b[39;00m target_cols]\n\u001b[1;32m      3\u001b[0m income_mean \u001b[38;5;241m=\u001b[39m X_train[\u001b[38;5;124m'\u001b[39m\u001b[38;5;124mincome\u001b[39m\u001b[38;5;124m'\u001b[39m]\u001b[38;5;241m.\u001b[39mmean()\n",
      "\u001b[0;31mKeyError\u001b[0m: 0"
     ]
    }
   ],
   "source": [
    "target_names = [X_train.attrs[x[len('target__'):]][0] for x in target_cols]\n",
    "target_names_eng = [X_train.attrs[x[len('target__'):]][1] for x in target_cols]\n",
    "income_mean = X_train['income'].mean()\n",
    "\n",
    "model_params = {\n",
    "    'target_names': target_names,\n",
    "    'target_names_eng': target_names_eng,\n",
    "    'income_mean': income_mean\n",
    "}\n",
    "\n",
    "model_params_file = path(MODEL_DIR, MODEL_PARAMS)\n",
    "\n",
    "with open(model_params_file, 'w') as f:\n",
    "    json.dump(model_params, f)\n",
    "\n",
    "mlflow.log_artifact(model_params_file)"
   ]
  },
  {
   "cell_type": "markdown",
   "metadata": {},
   "source": [
    "Для тестирования сервиса нам нужно будет генерировать json запросы, а для получения предсказаний нужен DataFrame.\n",
    "Для этого создадим некоторые функции преобразования, смысл которых понятен из аннотаций."
   ]
  },
  {
   "cell_type": "code",
   "execution_count": 11,
   "metadata": {},
   "outputs": [],
   "source": [
    "def safe_strftime(date_value: pd.Timestamp) -> Optional[str]:\n",
    "    \"\"\"\n",
    "    Safely convert a pandas Timestamp to a string in 'dd-mm-yyyy' format.\n",
    "    If the value is NaT (not a time), return None.\n",
    "\n",
    "    Parameters:\n",
    "    - date_value (pd.Timestamp): A timestamp to convert.\n",
    "\n",
    "    Returns:\n",
    "    - str or None: The formatted date string or None if the value is NaT.\n",
    "    \"\"\"\n",
    "    if pd.isnull(date_value):  # Check for NaT (Not a Time)\n",
    "        return None\n",
    "    return date_value.strftime('%d-%m-%Y')  # Format the date as dd-mm-yyyy\n",
    "\n",
    "\n",
    "def save_row_to_json(row: pd.Series, json_file: str) -> None:\n",
    "    \"\"\"\n",
    "    Save a pandas Series (row) to a JSON file, converting datetime fields safely.\n",
    "\n",
    "    Parameters:\n",
    "    - row (pd.Series): The row of data to save.\n",
    "    - json_file (str): The path to the JSON file to save the data.\n",
    "\n",
    "    Returns:\n",
    "    - None: The function writes the row to a file and doesn't return anything.\n",
    "    \"\"\"\n",
    "    row = row.copy()  # Make a copy of the row to avoid modifying the original\n",
    "    \n",
    "    # Safely convert datetime fields to string format\n",
    "    row[date_columns] = row[date_columns].apply(lambda col: safe_strftime(col))\n",
    "    \n",
    "    # Convert the row to JSON format\n",
    "    json_data = row.to_json(orient='index', indent=4)\n",
    "    \n",
    "    # Write the JSON data to the specified file\n",
    "    with open(json_file, 'w') as f:\n",
    "        f.write(json_data)\n",
    "\n",
    "save_row_to_json(X_test.iloc[LUCKY_USER], path(MODEL_DIR, SAMPLE_JSON))\n"
   ]
  },
  {
   "cell_type": "code",
   "execution_count": 12,
   "metadata": {},
   "outputs": [
    {
     "name": "stdout",
     "output_type": "stream",
     "text": [
      "Банковская гарантия 0\n",
      "Текущие счета 1\n",
      "Деривативный счёт 0\n",
      "Зарплатный проект 0\n",
      "Детский счёт 0\n",
      "Особый счёт 3 0\n",
      "Особый счёт 0\n",
      "Особый счёт 2 0\n",
      "Краткосрочный депозит 0\n",
      "Среднесрочный депозит 0\n",
      "Долгосрочный депозит 0\n",
      "Цифровой счёт 0\n",
      "Денежный средства 0\n",
      "Ипотека 0\n",
      "Пенсионный план 0\n",
      "Кредит 0\n",
      "Налоговый счёт 0\n",
      "Кредитная карта 0\n",
      "Ценные бумаги 0\n",
      "Домашний счёт 0\n",
      "Аккаунт для выплаты зарплаты 1\n",
      "Аккаунт для пенсионных обязательств 0\n",
      "Дебетовый аккаунт 0\n"
     ]
    }
   ],
   "source": [
    "def load_row_from_json(json_file: str) -> pd.DataFrame:\n",
    "    \"\"\"\n",
    "    Load a row from a JSON file and convert it into a pandas DataFrame.\n",
    "    Handles datetime fields and assigns a mean value to the 'income' column if it's missing.\n",
    "\n",
    "    Parameters:\n",
    "    - json_file (str): Path to the JSON file.\n",
    "\n",
    "    Returns:\n",
    "    - pd.DataFrame: A DataFrame containing the loaded row.\n",
    "    \"\"\"\n",
    "    # Load the JSON data as a pandas Series\n",
    "    row_loaded = pd.read_json(json_file, typ='series')\n",
    "    \n",
    "    # Convert string dates back into datetime format\n",
    "    row_loaded[date_columns] = row_loaded[date_columns].apply(pd.to_datetime, format='%d-%m-%Y')\n",
    "\n",
    "    # Handle missing 'income' value by assigning the mean income\n",
    "    if row_loaded['income'] is None:\n",
    "        row_loaded['income'] = income_mean\n",
    "    \n",
    "    # Return as a single-row DataFrame\n",
    "    return pd.DataFrame([row_loaded])\n",
    "\n",
    "\n",
    "def interpret_predictions(predictions: list, lang: str = 'rus', is_integer=True) -> Dict[str, int]:\n",
    "    \"\"\"\n",
    "    Interpret the model predictions by mapping the prediction columns to target names.\n",
    "\n",
    "    Parameters:\n",
    "    - predictions (list): List of predicted values.\n",
    "    - lang (str): Language for target names, 'rus' for Russian, 'eng' for English.\n",
    "\n",
    "    Returns:\n",
    "    - dict: A dictionary mapping target names to predicted values.\n",
    "    \"\"\"\n",
    "    # Select appropriate target names based on language\n",
    "    if lang == 'rus':\n",
    "        targets = target_names\n",
    "    else:\n",
    "        targets = target_names_eng\n",
    "    \n",
    "    # Map the predictions to target names\n",
    "    if is_integer:\n",
    "        return {name: int(pred) for pred, name in zip(predictions, targets)}\n",
    "    \n",
    "    return {name: pred for pred, name in zip(predictions, targets)}\n",
    "\n",
    "\n",
    "prediction = model.predict(load_row_from_json(path(MODEL_DIR, SAMPLE_JSON)))[0]\n",
    "\n",
    "predictions_dict = interpret_predictions(prediction, lang='rus')\n",
    "\n",
    "for target, prediction in predictions_dict.items():\n",
    "    print(target, prediction)"
   ]
  },
  {
   "cell_type": "markdown",
   "metadata": {},
   "source": [
    "В итоге мы создали образец json в файле sample.json и получили функцию для вывода предсказаний модели на английском и русском языках.  \n",
    "\n",
    "Вернемся к оценке предсказаний."
   ]
  },
  {
   "cell_type": "markdown",
   "metadata": {},
   "source": [
    "##### Получение и интерпретация метрик"
   ]
  },
  {
   "cell_type": "code",
   "execution_count": 13,
   "metadata": {},
   "outputs": [
    {
     "data": {
      "image/png": "[encoded data removed]",
      "text/plain": [
       "<Figure size 2000x600 with 1 Axes>"
      ]
     },
     "metadata": {},
     "output_type": "display_data"
    }
   ],
   "source": [
    "plot_data = pd.DataFrame({\n",
    "    'True': y_true.sum(axis=0),\n",
    "    'Predicted': np.sum(y_pred, axis=0)\n",
    "})\n",
    "\n",
    "plot_data_sorted = plot_data.sort_values(by='True')\n",
    "\n",
    "plt.figure(figsize=(20, 6))\n",
    "plt.title(f\"Сравнение истинных и предсказанных меток\")\n",
    "plt.ylabel(\"Продукты\")\n",
    "plt.xlabel(\"Количество покупок\")\n",
    "\n",
    "y_labels = [df_train.attrs[col[8:]][0] for col in plot_data_sorted.index]\n",
    "plt.barh(y_labels, plot_data_sorted['True'], label='Истинные метки', alpha=0.5, color='b')\n",
    "plt.barh(y_labels, plot_data_sorted['Predicted'], label='Предсказанные', alpha=0.5, color='r')\n",
    "\n",
    "plt.legend(loc='lower right')\n",
    "\n",
    "plot_path = \"compare_plot.png\"\n",
    "plt.savefig(plot_path)\n",
    "\n",
    "plt.show()\n",
    "\n",
    "\n",
    "mlflow.log_artifact(plot_path)\n",
    "\n",
    "os.remove(plot_path)"
   ]
  },
  {
   "cell_type": "markdown",
   "metadata": {},
   "source": [
    "Видим, что модель (неглубоко обученная) неплохо собирает положительные таргеты, отличает их друг от друга, но ошибается в частоте предсказаний,  неравномерно недооценивает/переоценивает различные таргеты.  \n",
    "Залогируем модель, а потом и метрики."
   ]
  },
  {
   "cell_type": "code",
   "execution_count": 14,
   "metadata": {},
   "outputs": [
    {
     "name": "stderr",
     "output_type": "stream",
     "text": [
      "2024/09/20 14:11:52 WARNING mlflow.utils.requirements_utils: Detected one or more mismatches between the model's dependencies and the current Python environment:\n",
      " - apache-airflow-providers-openlineage (current: uninstalled, required: apache-airflow-providers-openlineage>=1.8.0)\n",
      "To fix the mismatches, call `mlflow.pyfunc.get_model_dependencies(model_uri)` to fetch the model's environment and install dependencies using the resulting environment file.\n",
      "Registered model 'model_sprint_6_2' already exists. Creating a new version of this model...\n",
      "2024/09/20 14:11:52 INFO mlflow.store.model_registry.abstract_store: Waiting up to 60 seconds for model version to finish creation. Model name: model_sprint_6_2, version 4\n",
      "Created version '4' of model 'model_sprint_6_2'.\n"
     ]
    }
   ],
   "source": [
    "warnings.filterwarnings(\"ignore\", category=UserWarning)\n",
    "\n",
    "X_test['ind_spouse_employee'] = X_test['ind_spouse_employee'].fillna(0)\n",
    "\n",
    "mlflow.sklearn.log_model(\n",
    "    sk_model=model,\n",
    "    artifact_path='models',\n",
    "    registered_model_name=REGISTRY_MODEL_NAME,\n",
    "    signature=mlflow.models.infer_signature(X_test[:10], model.predict(X_test[:10])),\n",
    "    await_registration_for=60,\n",
    "    pip_requirements='requirements.txt'\n",
    ")\n",
    "\n",
    "mlflow.log_params(model.get_params())"
   ]
  },
  {
   "cell_type": "code",
   "execution_count": 15,
   "metadata": {},
   "outputs": [
    {
     "data": {
      "text/html": [
       "<div>\n",
       "<style scoped>\n",
       "    .dataframe tbody tr th:only-of-type {\n",
       "        vertical-align: middle;\n",
       "    }\n",
       "\n",
       "    .dataframe tbody tr th {\n",
       "        vertical-align: top;\n",
       "    }\n",
       "\n",
       "    .dataframe thead th {\n",
       "        text-align: right;\n",
       "    }\n",
       "</style>\n",
       "<table border=\"1\" class=\"dataframe\">\n",
       "  <thead>\n",
       "    <tr style=\"text-align: right;\">\n",
       "      <th></th>\n",
       "      <th>micro</th>\n",
       "      <th>macro</th>\n",
       "      <th>average</th>\n",
       "    </tr>\n",
       "  </thead>\n",
       "  <tbody>\n",
       "    <tr>\n",
       "      <th>Accuracy</th>\n",
       "      <td>-1.0000</td>\n",
       "      <td>-1.0000</td>\n",
       "      <td>0.8274</td>\n",
       "    </tr>\n",
       "    <tr>\n",
       "      <th>Precision</th>\n",
       "      <td>0.3151</td>\n",
       "      <td>0.1762</td>\n",
       "      <td>0.2944</td>\n",
       "    </tr>\n",
       "    <tr>\n",
       "      <th>Recall</th>\n",
       "      <td>0.2386</td>\n",
       "      <td>0.1175</td>\n",
       "      <td>0.2386</td>\n",
       "    </tr>\n",
       "    <tr>\n",
       "      <th>F1</th>\n",
       "      <td>0.2716</td>\n",
       "      <td>0.1287</td>\n",
       "      <td>0.2491</td>\n",
       "    </tr>\n",
       "    <tr>\n",
       "      <th>ROC AUC</th>\n",
       "      <td>0.9583</td>\n",
       "      <td>0.8354</td>\n",
       "      <td>0.8797</td>\n",
       "    </tr>\n",
       "  </tbody>\n",
       "</table>\n",
       "</div>"
      ],
      "text/plain": [
       "            micro   macro  average\n",
       "Accuracy  -1.0000 -1.0000   0.8274\n",
       "Precision  0.3151  0.1762   0.2944\n",
       "Recall     0.2386  0.1175   0.2386\n",
       "F1         0.2716  0.1287   0.2491\n",
       "ROC AUC    0.9583  0.8354   0.8797"
      ]
     },
     "metadata": {},
     "output_type": "display_data"
    }
   ],
   "source": [
    "metrics = calculate_metrics(y_true, y_pred, y_pred_proba)\n",
    "\n",
    "display(metrics)\n",
    "\n",
    "metrics_dict = {\n",
    "    f'{metric}_{metric_type}': metrics.loc[metric, metric_type]\n",
    "    for metric in metrics.index\n",
    "    for metric_type in metrics.columns\n",
    "}\n",
    "\n",
    "mlflow.log_metrics(metrics_dict)"
   ]
  },
  {
   "cell_type": "markdown",
   "metadata": {},
   "source": [
    "В целом, картина полчилась адекватная.  \n",
    "Accuracy высокая из-за преобладающего количества предсказаний мажоритарного класса (0).  \n",
    "Микро-метрики, то есть усредненные по всем наблюдениям, в целом лучше, чем макро-усредненные по классам, т.к. классы очень разные.  \n",
    "Ну и высокая ROC-AUC, показывающая, что модель хорошо отличает класс 1 от класса 0.  \n",
    "В общем, для разреженных, несбалансированны данных и неоптимизированной модели, предсказание покупки в 25-30% случаев - неплохой результат."
   ]
  },
  {
   "cell_type": "code",
   "execution_count": 16,
   "metadata": {},
   "outputs": [
    {
     "data": {
      "image/png": "[encoded data removed]",
      "text/plain": [
       "<Figure size 600x400 with 1 Axes>"
      ]
     },
     "metadata": {},
     "output_type": "display_data"
    }
   ],
   "source": [
    "plt.figure(figsize=(6, 4))\n",
    "y_pred_proba_class_1 = np.array(y_pred_proba)[:, :, 1].T \n",
    "plot_roc_curve(y_true, y_pred_proba_class_1, 'CatBoost Classifier')\n",
    "\n",
    "constant_baseline_proba = np.full(y_true.shape, 0.5)\n",
    "plot_roc_curve(y_true, constant_baseline_proba, 'Константная модель')\n",
    "\n",
    "label_frequencies = y_train[target_cols].mean(axis=0)\n",
    "frequency_based_baseline_proba = np.tile(label_frequencies.values, (y_true.shape[0], 1))\n",
    "plot_roc_curve(y_true, frequency_based_baseline_proba, 'Частотная модель')\n",
    "\n",
    "plt.plot([0, 1], [0, 1], 'k--')\n",
    "plt.xlim([0.0, 1.0])\n",
    "plt.ylim([0.0, 1.05])\n",
    "plt.xlabel('False Positive Rate')\n",
    "plt.ylabel('True Positive Rate')\n",
    "plt.title('Сравнение ROC кривых обучаемой и базовых моделей')\n",
    "plt.legend(loc='lower right')\n",
    "plt.show()"
   ]
  },
  {
   "cell_type": "markdown",
   "metadata": {},
   "source": [
    "##### Сравнение метрик модели с константными предсказаниями"
   ]
  },
  {
   "cell_type": "markdown",
   "metadata": {},
   "source": [
    "Как видно из графика, частотная baseline модель может показать высокую ROC AUC, если будет выбирать самые популярные продукты.  \n",
    "Сравним нашу модель с константными более основательно.  \n",
    "Попробуем в каждом таргете сохранить средние значения по всем наблюдениям."
   ]
  },
  {
   "cell_type": "code",
   "execution_count": 17,
   "metadata": {},
   "outputs": [
    {
     "data": {
      "text/plain": [
       "target__ind_1m_checking_acc                 0.0289\n",
       "target__ind_1m_credit_card                  0.0230\n",
       "target__ind_1m_salary_acc                   0.0263\n",
       "target__ind_1m_pension_obligation_account   0.0289\n",
       "target__ind_1m_debit_account                0.0556\n",
       "dtype: float64"
      ]
     },
     "execution_count": 17,
     "metadata": {},
     "output_type": "execute_result"
    }
   ],
   "source": [
    "threshold = 0.02\n",
    "\n",
    "y_train.mean(axis=0)[y_train.mean(axis=0) > 0.02]"
   ]
  },
  {
   "cell_type": "code",
   "execution_count": 18,
   "metadata": {},
   "outputs": [
    {
     "name": "stdout",
     "output_type": "stream",
     "text": [
      "Метрики базовой модели на константных средних\n"
     ]
    },
    {
     "data": {
      "text/html": [
       "<div>\n",
       "<style scoped>\n",
       "    .dataframe tbody tr th:only-of-type {\n",
       "        vertical-align: middle;\n",
       "    }\n",
       "\n",
       "    .dataframe tbody tr th {\n",
       "        vertical-align: top;\n",
       "    }\n",
       "\n",
       "    .dataframe thead th {\n",
       "        text-align: right;\n",
       "    }\n",
       "</style>\n",
       "<table border=\"1\" class=\"dataframe\">\n",
       "  <thead>\n",
       "    <tr style=\"text-align: right;\">\n",
       "      <th></th>\n",
       "      <th>micro</th>\n",
       "      <th>macro</th>\n",
       "      <th>average</th>\n",
       "    </tr>\n",
       "  </thead>\n",
       "  <tbody>\n",
       "    <tr>\n",
       "      <th>Accuracy</th>\n",
       "      <td>-1.0000</td>\n",
       "      <td>-1.0000</td>\n",
       "      <td>0.0000</td>\n",
       "    </tr>\n",
       "    <tr>\n",
       "      <th>Precision</th>\n",
       "      <td>0.0190</td>\n",
       "      <td>0.0033</td>\n",
       "      <td>0.0182</td>\n",
       "    </tr>\n",
       "    <tr>\n",
       "      <th>Recall</th>\n",
       "      <td>0.4391</td>\n",
       "      <td>0.1739</td>\n",
       "      <td>0.4391</td>\n",
       "    </tr>\n",
       "    <tr>\n",
       "      <th>F1</th>\n",
       "      <td>0.0365</td>\n",
       "      <td>0.0064</td>\n",
       "      <td>0.0348</td>\n",
       "    </tr>\n",
       "    <tr>\n",
       "      <th>ROC AUC</th>\n",
       "      <td>0.5692</td>\n",
       "      <td>0.5000</td>\n",
       "      <td>0.5000</td>\n",
       "    </tr>\n",
       "  </tbody>\n",
       "</table>\n",
       "</div>"
      ],
      "text/plain": [
       "            micro   macro  average\n",
       "Accuracy  -1.0000 -1.0000   0.0000\n",
       "Precision  0.0190  0.0033   0.0182\n",
       "Recall     0.4391  0.1739   0.4391\n",
       "F1         0.0365  0.0064   0.0348\n",
       "ROC AUC    0.5692  0.5000   0.5000"
      ]
     },
     "execution_count": 18,
     "metadata": {},
     "output_type": "execute_result"
    }
   ],
   "source": [
    "n_rows = y_pred.shape[0]\n",
    "n_columns = y_pred.shape[1]\n",
    "\n",
    "\n",
    "mean_class_probs = y_train.mean(axis=0)\n",
    "constant_baseline_proba = np.array([\n",
    "    np.tile([1 - mean_class_probs.iloc[i], mean_class_probs.iloc[i]], (n_rows, 1)) \n",
    "    for i in range(n_columns)\n",
    "])\n",
    "\n",
    "y_pred_constant = (constant_baseline_proba[:, :, 1].T > threshold).astype(int)\n",
    "\n",
    "print(\"Метрики базовой модели на константных средних\")\n",
    "calculate_metrics(y_true, y_pred_constant, constant_baseline_proba)\n",
    "\n",
    "# Acc = 0, т.к. не было случаев совпадения предсказаний  по всем меткам сразу (т.е. где 5 выбранных таргетов == 1)"
   ]
  },
  {
   "cell_type": "markdown",
   "metadata": {},
   "source": [
    "Видим, что полнота даже выше, чем у нашей модели, то есть константная модель на средних собирает больше 1, но, к сожалению, очень неточно, из-за чего точность < 2%.  Тут даже Accuracy == 0, то есть константы не различают классы.  \n",
    "  \n",
    "Другая модель пытается сохранить частоту появления положительных предсказаний для каждого таргета."
   ]
  },
  {
   "cell_type": "code",
   "execution_count": 19,
   "metadata": {},
   "outputs": [
    {
     "name": "stdout",
     "output_type": "stream",
     "text": [
      "Метрики частотной базовой модели\n"
     ]
    },
    {
     "data": {
      "text/html": [
       "<div>\n",
       "<style scoped>\n",
       "    .dataframe tbody tr th:only-of-type {\n",
       "        vertical-align: middle;\n",
       "    }\n",
       "\n",
       "    .dataframe tbody tr th {\n",
       "        vertical-align: top;\n",
       "    }\n",
       "\n",
       "    .dataframe thead th {\n",
       "        text-align: right;\n",
       "    }\n",
       "</style>\n",
       "<table border=\"1\" class=\"dataframe\">\n",
       "  <thead>\n",
       "    <tr style=\"text-align: right;\">\n",
       "      <th></th>\n",
       "      <th>micro</th>\n",
       "      <th>macro</th>\n",
       "      <th>average</th>\n",
       "    </tr>\n",
       "  </thead>\n",
       "  <tbody>\n",
       "    <tr>\n",
       "      <th>Accuracy</th>\n",
       "      <td>-1.0000</td>\n",
       "      <td>-1.0000</td>\n",
       "      <td>0.7457</td>\n",
       "    </tr>\n",
       "    <tr>\n",
       "      <th>Precision</th>\n",
       "      <td>0.0165</td>\n",
       "      <td>0.0123</td>\n",
       "      <td>0.0454</td>\n",
       "    </tr>\n",
       "    <tr>\n",
       "      <th>Recall</th>\n",
       "      <td>0.0139</td>\n",
       "      <td>0.0051</td>\n",
       "      <td>0.0139</td>\n",
       "    </tr>\n",
       "    <tr>\n",
       "      <th>F1</th>\n",
       "      <td>0.0151</td>\n",
       "      <td>0.0036</td>\n",
       "      <td>0.0164</td>\n",
       "    </tr>\n",
       "    <tr>\n",
       "      <th>ROC AUC</th>\n",
       "      <td>0.5692</td>\n",
       "      <td>0.5000</td>\n",
       "      <td>0.5000</td>\n",
       "    </tr>\n",
       "  </tbody>\n",
       "</table>\n",
       "</div>"
      ],
      "text/plain": [
       "            micro   macro  average\n",
       "Accuracy  -1.0000 -1.0000   0.7457\n",
       "Precision  0.0165  0.0123   0.0454\n",
       "Recall     0.0139  0.0051   0.0139\n",
       "F1         0.0151  0.0036   0.0164\n",
       "ROC AUC    0.5692  0.5000   0.5000"
      ]
     },
     "execution_count": 19,
     "metadata": {},
     "output_type": "execute_result"
    }
   ],
   "source": [
    "y_pred_frequency_based = np.zeros_like(y_true)\n",
    "\n",
    "for i in range(n_columns):\n",
    "    num_ones = int(y_train.iloc[:, i].mean() * n_rows)\n",
    "    ones_indices = np.random.choice(n_rows, num_ones, replace=False)\n",
    "    y_pred_frequency_based[ones_indices, i] = 1\n",
    "\n",
    "class_1_frequencies = y_train.mean(axis=0)\n",
    "y_pred_proba_frequency_based = np.array([\n",
    "    np.tile([1 - class_1_frequencies.iloc[i], class_1_frequencies.iloc[i]], (n_rows, 1))\n",
    "    for i in range(n_columns)\n",
    "])\n",
    "\n",
    "print(\"Метрики частотной базовой модели\")\n",
    "metrics = calculate_metrics(y_true, y_pred_frequency_based, y_pred_proba_frequency_based)\n",
    "metrics"
   ]
  },
  {
   "cell_type": "markdown",
   "metadata": {},
   "source": [
    "Значение Accuracy высокое, т.к. частоты 0 тоже похожи на реальные, но остальные метрики также на уровне погрешности.  \n",
    "Таким образом, наша обученная модель не просто знает частоту и средние значения таргетов, а хорошо умеет отделять класс 1 от класса 0 и отличать таргеты друг от друга."
   ]
  },
  {
   "cell_type": "code",
   "execution_count": 20,
   "metadata": {},
   "outputs": [
    {
     "name": "stdout",
     "output_type": "stream",
     "text": [
      "Залогированы параметры: {'memory': 'None', 'steps': \"[('preprocessor', DataFrameProcessor()), ('encoder', ColumnTransformer(force_int_remainder_cols=False, remainder='passthrough',\\n                  transformers=[('num', MinMaxScaler(),\\n                                 ['age', 'tenure_months', 'income',\\n                                  'fetch_year', 'fetch_month',\\n                                  'number_of_products']),\\n                                ('onehot', OneHotEncoder(drop='first'),\\n                                 ['gender', 'client_type_1m',\\n                                  'client_activity_1m', 'ind_foreigner',\\n                                  'client_segment']),\\n                                ('freq',\\n                                 FunctionTransformer(func=<function frequency_encoding at 0x7fba2e3f9900>),\\n                                 ['entry_channel', 'province_code'])])), ('model', MultiOutputClassifier(estimator=<catboost.core.CatBoostClassifier object at 0x7fba2df0d450>))]\", 'verbose': 'False', 'preprocessor': 'DataFrameProcessor()', 'encoder': \"ColumnTransformer(force_int_remainder_cols=False, remainder='passthrough',\\n                  transformers=[('num', MinMaxScaler(),\\n                                 ['age', 'tenure_months', 'income',\\n                                  'fetch_year', 'fetch_month',\\n                                  'number_of_products']),\\n                                ('onehot', OneHotEncoder(drop='first'),\\n                                 ['gender', 'client_type_1m',\\n                                  'client_activity_1m', 'ind_foreigner',\\n                                  'client_segment']),\\n                                ('freq',\\n                                 FunctionTransformer(func=<function frequency_encoding at 0x7fba2e3f9900>),\\n                                 ['entry_channel', 'province_code'])])\", 'model': 'MultiOutputClassifier(estimator=<catboost.core.CatBoostClassifier object at 0x7fba2df0d450>)', 'encoder__force_int_remainder_cols': 'False', 'encoder__n_jobs': 'None', 'encoder__remainder': 'passthrough', 'encoder__sparse_threshold': '0.3', 'encoder__transformer_weights': 'None', 'encoder__transformers': \"[('num', MinMaxScaler(), ['age', 'tenure_months', 'income', 'fetch_year', 'fetch_month', 'number_of_products']), ('onehot', OneHotEncoder(drop='first'), ['gender', 'client_type_1m', 'client_activity_1m', 'ind_foreigner', 'client_segment']), ('freq', FunctionTransformer(func=<function frequency_encoding at 0x7fba2e3f9900>), ['entry_channel', 'province_code'])]\", 'encoder__verbose': 'False', 'encoder__verbose_feature_names_out': 'True', 'encoder__num': 'MinMaxScaler()', 'encoder__onehot': \"OneHotEncoder(drop='first')\", 'encoder__freq': 'FunctionTransformer(func=<function frequency_encoding at 0x7fba2e3f9900>)', 'encoder__num__clip': 'False', 'encoder__num__copy': 'True', 'encoder__num__feature_range': '(0, 1)', 'encoder__onehot__categories': 'auto', 'encoder__onehot__drop': 'first', 'encoder__onehot__dtype': \"<class 'numpy.float64'>\", 'encoder__onehot__feature_name_combiner': 'concat', 'encoder__onehot__handle_unknown': 'error', 'encoder__onehot__max_categories': 'None', 'encoder__onehot__min_frequency': 'None', 'encoder__onehot__sparse_output': 'True', 'encoder__freq__accept_sparse': 'False', 'encoder__freq__check_inverse': 'True', 'encoder__freq__feature_names_out': 'None', 'encoder__freq__func': '<function frequency_encoding at 0x7fba2e3f9900>', 'encoder__freq__inv_kw_args': 'None', 'encoder__freq__inverse_func': 'None', 'encoder__freq__kw_args': 'None', 'encoder__freq__validate': 'False', 'model__estimator__iterations': '100', 'model__estimator__verbose': '0', 'model__estimator__class_weights': '[1, 4]', 'model__estimator__random_state': '42', 'model__estimator': '<catboost.core.CatBoostClassifier object at 0x7fba2df0d450>', 'model__n_jobs': 'None'}\n",
      "Залогированы метрики: {'Accuracy_micro': -1.0, 'Accuracy_macro': -1.0, 'Accuracy_average': 0.8274100786598799, 'Precision_micro': 0.31508611585799046, 'Precision_macro': 0.17615823944189318, 'Precision_average': 0.29441155913186373, 'Recall_micro': 0.23863884243437794, 'Recall_macro': 0.11749884314335007, 'Recall_average': 0.23863884243437794, 'F1_micro': 0.27158532346953973, 'F1_macro': 0.1286727654616076, 'F1_average': 0.24906117222983643, 'ROC AUC_micro': 0.9583061831339773, 'ROC AUC_macro': 0.8353860206373831, 'ROC AUC_average': 0.8796916352679465}\n",
      "Модель model_sprint_6_2 была зарегистрирована.\n"
     ]
    }
   ],
   "source": [
    "run_id = run.info.run_id\n",
    "run_details = mlflow.get_run(run_id)\n",
    "\n",
    "params = run_details.data.params\n",
    "print(\"Залогированы параметры:\", params)\n",
    "print(\"Залогированы метрики:\", run_details.data.metrics)\n",
    "\n",
    "registered_models = mlflow.search_registered_models()\n",
    "\n",
    "model_found = any(model.name == REGISTRY_MODEL_NAME for model in registered_models)\n",
    "if model_found:\n",
    "    print(f\"Модель {REGISTRY_MODEL_NAME} была зарегистрирована.\")\n",
    "else:\n",
    "    print(f\"Модель {REGISTRY_MODEL_NAME} НЕ была зарегистрирована.\")\n"
   ]
  },
  {
   "cell_type": "code",
   "execution_count": 21,
   "metadata": {},
   "outputs": [
    {
     "name": "stderr",
     "output_type": "stream",
     "text": [
      "2024/09/20 14:13:27 INFO mlflow.tracking._tracking_service.client: 🏃 View run CBC at: http://127.0.0.1:5000/#/experiments/1/runs/490c9234bc3c43bc94bb4f8285187a6a.\n",
      "2024/09/20 14:13:27 INFO mlflow.tracking._tracking_service.client: 🧪 View experiment at: http://127.0.0.1:5000/#/experiments/1.\n"
     ]
    },
    {
     "name": "stdout",
     "output_type": "stream",
     "text": [
      "Запуск эксперимента окончен.\n",
      "Активных запусков нет.\n"
     ]
    }
   ],
   "source": [
    "mlflow.end_run()\n",
    "print(\"Запуск эксперимента окончен.\")\n",
    "\n",
    "active_run = mlflow.active_run()\n",
    "if active_run:\n",
    "    print(f\"Активный запуск: {active_run.info.run_id}\")\n",
    "else:\n",
    "    print(\"Активных запусков нет.\")"
   ]
  },
  {
   "cell_type": "markdown",
   "metadata": {},
   "source": [
    "##### Получение рекомендаций на основе вероятностей предсказаний\n",
    "Т.к. целью (или одной из целей) проекта является получение рекомендаций, мы можем использовать уже полученные нами предсказания y_pred, функцию функцию маппинга interpret_predictions() и выбранный порог, например, 0.1, для выработки рекомендаций нашему тестовому клиенту."
   ]
  },
  {
   "cell_type": "code",
   "execution_count": 22,
   "metadata": {},
   "outputs": [
    {
     "name": "stdout",
     "output_type": "stream",
     "text": [
      "Рекомендации для клиента id=1251582:\n",
      "\n",
      "Текущие счета: 0.83\n",
      "Аккаунт для выплаты зарплаты: 0.76\n",
      "Кредитная карта: 0.71\n",
      "Дебетовый аккаунт: 0.4\n",
      "Аккаунт для пенсионных обязательств: 0.4\n",
      "Зарплатный проект: 0.08\n"
     ]
    }
   ],
   "source": [
    "id = load_row_from_json(path(MODEL_DIR, SAMPLE_JSON))['id'][0]\n",
    "threshold = 0.01\n",
    "\n",
    "proba_predictions = model.predict_proba(X_test[X_test.id==id])\n",
    "interpreted_predictions = interpret_predictions([pos_class[1] for prediction in proba_predictions for pos_class in prediction], is_integer=False)\n",
    "filtered_dict = {k: v for k, v in interpreted_predictions.items() if v >= threshold}\n",
    "sorted_dict = dict(sorted(filtered_dict.items(), key=lambda item: -item[1]))\n",
    "\n",
    "print(f'Рекомендации для клиента {id=}:\\n')\n",
    "\n",
    "for key, value in sorted_dict.items():\n",
    "    print(f\"{key}: {round(value, 2)}\")"
   ]
  },
  {
   "cell_type": "markdown",
   "metadata": {},
   "source": [
    "##### Итоги этапа моделирования\n",
    " - поднят сервер MLFlow\n",
    " - загружен тренировочный датасет и сохраненная модель\n",
    " - подобран объем тренировочных данных (данные за 8 месяцев), тестовых данных (за 2 месяца) и параметры модели (малое количество итераций = 100, веса классов = [1, 4])\n",
    " - проведена подготовка к встраиванию модели в сервис предсказаний\n",
    " - получены метрики модели и проведена их интерпретация:\n",
    "   - Precision\t0.3167\n",
    "   - Recall\t0.2371\n",
    "   - F1\t0.2712\n",
    "   - ROC AUC\t0.9581\n",
    " - проведене сравнение результатов предсказаний модели с константными предсказаниями\n",
    " - на протяжении всего этапа производилось логирование артефактов и метрик в текущем запуске эксперимента MLFlow\n",
    " - обученная модель залогирована, запуск эксперимента окончен\n",
    " - построенная структура позволяет проводить оптимизацию (кросс-валидацию) пайплайна обработки данных и подбора алгорима обучения и гиперпараметров с использованием инструментов sklearn или Optuna"
   ]
  },
  {
   "cell_type": "markdown",
   "metadata": {},
   "source": []
  }
 ],
 "metadata": {
  "kernelspec": {
   "display_name": "Python 3",
   "language": "python",
   "name": "python3"
  },
  "language_info": {
   "codemirror_mode": {
    "name": "ipython",
    "version": 3
   },
   "file_extension": ".py",
   "mimetype": "text/x-python",
   "name": "python",
   "nbconvert_exporter": "python",
   "pygments_lexer": "ipython3",
   "version": "3.10.12"
  }
 },
 "nbformat": 4,
 "nbformat_minor": 2
}
