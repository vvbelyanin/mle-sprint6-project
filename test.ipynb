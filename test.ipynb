{
 "cells": [
  {
   "cell_type": "code",
   "execution_count": 2,
   "metadata": {},
   "outputs": [
    {
     "name": "stdout",
     "output_type": "stream",
     "text": [
      "Python Dict: {'name': 'Alice', 'age': 30, 'city': 'New York'}\n",
      "JSON String: {\"name\": \"Alice\", \"age\": 30, \"city\": \"New York\"}\n"
     ]
    }
   ],
   "source": [
    "import json\n",
    "\n",
    "json_data = '{\"name\": \"Alice\", \"age\": 30, \"city\": \"New York\"}'\n",
    "\n",
    "python_dict = json.loads(json_data)\n",
    "\n",
    "json_string = json.dumps(python_dict)\n",
    "\n",
    "def load_json(filename):\n",
    "    with open(filename, 'r') as f:\n",
    "        return json.load(f)\n",
    "\n",
    "def save_json(obj, filename):\n",
    "    with open(filename, 'w') as f:\n",
    "        json.dump(obj, f, indent=4)\n",
    "\n"
   ]
  },
  {
   "cell_type": "code",
   "execution_count": null,
   "metadata": {},
   "outputs": [],
   "source": [
    "def add_fields_overrides_to_grafana(filename, attrs):\n",
    "    gr_dict = load_json(filename)\n",
    "\n",
    "    for k, v in attrs.items():\n",
    "        if k.startswith('ind_1m_'):\n",
    "            override_dict ={\n",
    "                'matcher': {'id': 'byRegexp', 'options': '.*' + v[1].replace(' ', '_') + '.*'}, \n",
    "                'properties': [{'id': 'displayName', 'value': v[0]}]\n",
    "            }\n",
    "            gr_dict['panels'][0]['fieldConfig']['overrides'].append(override_dict)\n",
    "\n",
    "    save_json(gr_dict, filename)"
   ]
  },
  {
   "cell_type": "code",
   "execution_count": null,
   "metadata": {},
   "outputs": [],
   "source": []
  }
 ],
 "metadata": {
  "kernelspec": {
   "display_name": ".venv_sprint_6",
   "language": "python",
   "name": "python3"
  },
  "language_info": {
   "codemirror_mode": {
    "name": "ipython",
    "version": 3
   },
   "file_extension": ".py",
   "mimetype": "text/x-python",
   "name": "python",
   "nbconvert_exporter": "python",
   "pygments_lexer": "ipython3",
   "version": "3.10.12"
  }
 },
 "nbformat": 4,
 "nbformat_minor": 2
}
